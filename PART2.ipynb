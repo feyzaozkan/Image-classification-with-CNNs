{
  "nbformat": 4,
  "nbformat_minor": 0,
  "metadata": {
    "colab": {
      "provenance": [],
      "gpuType": "T4",
      "toc_visible": true
    },
    "kernelspec": {
      "name": "python3",
      "display_name": "Python 3"
    },
    "language_info": {
      "name": "python"
    },
    "accelerator": "GPU",
    "gpuClass": "standard"
  },
  "cells": [
    {
      "cell_type": "markdown",
      "source": [
        "##Transfer Learning with CNNs"
      ],
      "metadata": {
        "id": "5h2q8zg3u53O"
      }
    },
    {
      "cell_type": "code",
      "execution_count": 1,
      "metadata": {
        "id": "40tCHML6I6iq"
      },
      "outputs": [],
      "source": [
        "#import necessary modules\n",
        "import os\n",
        "import random\n",
        "import shutil\n",
        "import torch\n",
        "import torch.nn as nn\n",
        "import torchvision\n",
        "import torchvision.transforms as transforms\n",
        "from torchvision.datasets import ImageFolder\n",
        "import torchvision.datasets as datasets\n",
        "import matplotlib.pyplot as plt\n",
        "import torchvision.models as models\n",
        "from torch.autograd import Variable\n",
        "from torch.optim import Adam\n",
        "from torch.optim.lr_scheduler import StepLR\n",
        "\n"
      ]
    },
    {
      "cell_type": "markdown",
      "source": [
        "###PUBLIC VARIABLES"
      ],
      "metadata": {
        "id": "ZcTTIktI6_Xw"
      }
    },
    {
      "cell_type": "code",
      "source": [
        "#number of images that will be used from each class\n",
        "num_images_per_class = 70\n",
        "#number of train images that will be used from each class\n",
        "num_train_per_class = 50\n",
        "#number of validation images that will be used from each class\n",
        "num_val_per_class = 10\n",
        "\n",
        "img_size = 224\n",
        "batch_size = 8\n",
        "num_classes = 8\n",
        "learning_rate = 0.0001\n",
        "num_epoch = 30"
      ],
      "metadata": {
        "id": "oUX1eiN_6-y8"
      },
      "execution_count": 6,
      "outputs": []
    },
    {
      "cell_type": "markdown",
      "source": [
        "###LOAD DATA"
      ],
      "metadata": {
        "id": "RR-cV3vyvBWh"
      }
    },
    {
      "cell_type": "code",
      "source": [
        "# Mount Google Drive\n",
        "from google.colab import drive\n",
        "drive.mount('/content/drive')\n",
        "\n",
        "#the dataset path in  Google Drive\n",
        "root_dir = \"/content/drive/MyDrive/Micro_Organism\""
      ],
      "metadata": {
        "colab": {
          "base_uri": "https://localhost:8080/"
        },
        "id": "lD1xFdr4he94",
        "outputId": "b60fc47a-79bf-4a49-fa59-52859ac18ad8"
      },
      "execution_count": 3,
      "outputs": [
        {
          "output_type": "stream",
          "name": "stdout",
          "text": [
            "Mounted at /content/drive\n"
          ]
        }
      ]
    },
    {
      "cell_type": "code",
      "source": [
        "#create directories for train, validation, test data\n",
        "os.makedirs(\"train\")\n",
        "os.makedirs(\"validation\")\n",
        "os.makedirs(\"test\")"
      ],
      "metadata": {
        "id": "VdKr6e7qbwfv"
      },
      "execution_count": 4,
      "outputs": []
    },
    {
      "cell_type": "code",
      "source": [
        "# Get the sorted list of classes (subdirectories) in the root directory\n",
        "classes = sorted(os.listdir(root_dir))\n",
        "num_images_per_folder = 70\n",
        "# Iterate over each class\n",
        "for dir_name in classes:\n",
        "    #get path to images\n",
        "    images_dir = os.path.join(root_dir, dir_name)\n",
        "    #get images names\n",
        "    filenames = os.listdir(images_dir)\n",
        "    random.seed(42)\n",
        "    #shuffle images\n",
        "    random.shuffle(filenames)\n",
        "\n",
        "    # Create paths for train, validation, and test sets\n",
        "    train_path = os.path.join('train', dir_name)\n",
        "    val_path = os.path.join('validation', dir_name)\n",
        "    test_path = os.path.join('test', dir_name)\n",
        "\n",
        "    if not os.path.exists(train_path):\n",
        "        os.makedirs(train_path)\n",
        "        os.makedirs(val_path)\n",
        "        os.makedirs(test_path)\n",
        "\n",
        "    # Copy images to the respective train, validation, and test directories\n",
        "    for i in range(num_images_per_folder):\n",
        "        filename = filenames[i]\n",
        "        filepath = os.path.join(images_dir, filename)\n",
        "        #copy first 50 images to train set\n",
        "        if (i < 50):\n",
        "          shutil.copy(filepath, train_path)\n",
        "        #copy next 10 images to validation set\n",
        "        elif ( i < 60 ):\n",
        "          shutil.copy(filepath, val_path)\n",
        "        #copy final 10 images to test set\n",
        "        else:\n",
        "          shutil.copy(filepath, test_path)\n",
        "\n"
      ],
      "metadata": {
        "id": "wSXTStXFZifr"
      },
      "execution_count": 5,
      "outputs": []
    },
    {
      "cell_type": "code",
      "source": [
        "# Define  transformations to be applied to the images\n",
        "all_transforms = transforms.Compose([transforms.Resize((img_size ,img_size )),\n",
        "                                     transforms.ToTensor(),\n",
        "                                     transforms.Normalize((0.5, 0.5, 0.5), (0.5, 0.5, 0.5))\n",
        "                                     ])\n",
        "\n",
        "# Create the train,validation,test set with the given transformations\n",
        "trainset = datasets.ImageFolder(root=\"train\", transform=all_transforms)\n",
        "valset = datasets.ImageFolder(root=\"validation\", transform=all_transforms)\n",
        "testset = datasets.ImageFolder(root=\"test\", transform=all_transforms)"
      ],
      "metadata": {
        "id": "a31qokghfxh4"
      },
      "execution_count": 7,
      "outputs": []
    },
    {
      "cell_type": "code",
      "source": [
        "# Create data loaders for the train, validation, and test sets\n",
        "trainloader = torch.utils.data.DataLoader(trainset, batch_size=batch_size,\n",
        "                                          shuffle=True, num_workers=2)\n",
        "\n",
        "validationloader = torch.utils.data.DataLoader(valset, batch_size=batch_size,\n",
        "                                          shuffle=True, num_workers=2)\n",
        "\n",
        "testloader = torch.utils.data.DataLoader(testset, batch_size=batch_size,\n",
        "                                          shuffle=True, num_workers=2)"
      ],
      "metadata": {
        "id": "GNsUNIly8dTn"
      },
      "execution_count": 8,
      "outputs": []
    },
    {
      "cell_type": "markdown",
      "source": [
        "###RES-NET18 MODEL"
      ],
      "metadata": {
        "id": "Yv3n7h7dvI01"
      }
    },
    {
      "cell_type": "code",
      "source": [
        "model = models.resnet18(pretrained=True)"
      ],
      "metadata": {
        "colab": {
          "base_uri": "https://localhost:8080/"
        },
        "id": "eFdgpBQTKPU5",
        "outputId": "e87a33ee-4f81-44a9-da45-96423bce64c2"
      },
      "execution_count": 9,
      "outputs": [
        {
          "output_type": "stream",
          "name": "stderr",
          "text": [
            "/usr/local/lib/python3.10/dist-packages/torchvision/models/_utils.py:208: UserWarning: The parameter 'pretrained' is deprecated since 0.13 and may be removed in the future, please use 'weights' instead.\n",
            "  warnings.warn(\n",
            "/usr/local/lib/python3.10/dist-packages/torchvision/models/_utils.py:223: UserWarning: Arguments other than a weight enum or `None` for 'weights' are deprecated since 0.13 and may be removed in the future. The current behavior is equivalent to passing `weights=ResNet18_Weights.IMAGENET1K_V1`. You can also use `weights=ResNet18_Weights.DEFAULT` to get the most up-to-date weights.\n",
            "  warnings.warn(msg)\n",
            "Downloading: \"https://download.pytorch.org/models/resnet18-f37072fd.pth\" to /root/.cache/torch/hub/checkpoints/resnet18-f37072fd.pth\n",
            "100%|██████████| 44.7M/44.7M [00:00<00:00, 119MB/s]\n"
          ]
        }
      ]
    },
    {
      "cell_type": "code",
      "source": [
        "device = torch.device(\"cuda:0\" if torch.cuda.is_available() else \"cpu\")\n",
        "# freeze all layers except the last FC layer\n",
        "for param in model.parameters():\n",
        "    param.requires_grad = False\n",
        "\n",
        "num_features = model.fc.in_features     #extract fc layers features\n",
        "model.fc = nn.Linear(num_features, 8)\n",
        "\n",
        "\n",
        "model = model.to(device)\n",
        "criterion = nn.CrossEntropyLoss()\n",
        "optimizer = torch.optim.SGD(model.parameters(), lr=learning_rate, weight_decay = 0.005, momentum = 0.9)"
      ],
      "metadata": {
        "id": "4nuviWsURymg"
      },
      "execution_count": 10,
      "outputs": []
    },
    {
      "cell_type": "markdown",
      "source": [
        "###TRAIN & VALIDATE"
      ],
      "metadata": {
        "id": "zNqPfTaBvQSi"
      }
    },
    {
      "cell_type": "code",
      "source": [
        "def train_one_epoch(model):\n",
        "  running_loss = 0.\n",
        "  running_acc = 0\n",
        "  last_loss = 0\n",
        "  last_acc = 0\n",
        "  for i, data in enumerate(trainloader):\n",
        "    # Every data instance is an input + label pair\n",
        "    inputs, labels = data\n",
        "    inputs = inputs.to(device)\n",
        "    labels = labels.to(device)\n",
        "    # Zero your gradients for every batch!\n",
        "    optimizer.zero_grad()\n",
        "    # Make predictions for this batch\n",
        "    outputs = model(inputs)\n",
        "\n",
        "    # Compute the loss and its gradients\n",
        "    loss = criterion(outputs, labels)\n",
        "    _, predicted = torch.max(outputs.data, 1)\n",
        "    loss.backward()\n",
        "    # Adjust learning weights\n",
        "    optimizer.step()\n",
        "    # Gather data and report\n",
        "    running_loss += loss.item()\n",
        "    acc =  ((predicted == labels).sum().item() / num_classes) * 100\n",
        "    running_acc += acc\n",
        "    if i % batch_size ==  batch_size-1:\n",
        "      last_loss = running_loss / batch_size  # loss per batch\n",
        "      last_acc = (running_acc / batch_size) # acc per batch\n",
        "      print('batch {} loss: {} acc: {} % '.format(i + 1, last_loss, last_acc))\n",
        "      running_loss = 0.\n",
        "      running_acc = 0.\n",
        "\n",
        "  return last_loss, last_acc\n",
        "\n",
        "def train_val(model):\n",
        "        train_loss = []\n",
        "        train_acc = []\n",
        "        val_loss = []\n",
        "        val_acc = []\n",
        "        best_models = []\n",
        "        best_models_path = []\n",
        "        best_vacc= 0\n",
        "        model.to(device)\n",
        "        for epoch in range(num_epoch):\n",
        "            print(\"EPOCH:  \" ,epoch)\n",
        "            model.train(True)\n",
        "            avg_loss , avg_acc = train_one_epoch(model)\n",
        "\n",
        "            running_vloss = 0.0\n",
        "            running_vacc = 0.0\n",
        "            model.eval()\n",
        "\n",
        "\n",
        "            # Disable gradient computation and reduce memory consumption.\n",
        "            with torch.no_grad():\n",
        "                for i, vdata in enumerate(validationloader):\n",
        "                    vinputs, vlabels = vdata\n",
        "                    vinputs = vinputs.to(device)\n",
        "                    vlabels = vlabels.to(device)\n",
        "                    voutputs = model(vinputs)\n",
        "                    vloss = criterion(voutputs, vlabels)\n",
        "                    running_vloss += vloss.item()\n",
        "\n",
        "                    _, vpredicted = torch.max(voutputs.data, 1)\n",
        "                    vacc =  ((vpredicted == vlabels).sum().item() / num_classes) * 100\n",
        "                    running_vloss += vloss.item()\n",
        "                    running_vacc += vacc\n",
        "\n",
        "\n",
        "            avg_vloss = running_vloss / (i + 1)\n",
        "            avg_vacc = running_vacc / (i + 1)\n",
        "\n",
        "            train_loss.append(avg_loss)\n",
        "            train_acc.append(avg_acc)\n",
        "            val_loss.append(avg_vloss)\n",
        "            val_acc.append(avg_vacc)\n",
        "            print('LOSS train {:.3f} valid {}'.format(avg_loss, avg_vloss))\n",
        "            print(\"avg loss \" , avg_vloss)\n",
        "            if avg_vacc > best_vacc:\n",
        "                best_vacc = avg_vacc\n",
        "                #model_path = 'model_{:.3f}_{}'.format(best_vloss, epoch)\n",
        "                best_models.append(model)\n",
        "                #best_models_path.append(model_path)\n",
        "\n",
        "        #torch.save(best_models[-1].state_dict(), best_models_path[-1])\n",
        "        return train_loss, train_acc, val_loss , val_acc , best_models[-1]\n"
      ],
      "metadata": {
        "id": "mdBwpK-EVHvj"
      },
      "execution_count": 11,
      "outputs": []
    },
    {
      "cell_type": "code",
      "source": [
        "device = torch.device(\"cuda\" if torch.cuda.is_available() else \"cpu\")\n",
        "criterion = nn.CrossEntropyLoss()\n",
        "optimizer = torch.optim.SGD(model.parameters(), lr=learning_rate, weight_decay = 0.005, momentum = 0.9)\n",
        "\n",
        "\n",
        "\n",
        "train_loss, train_acc, val_loss, val_acc, best_model = train_val(model)"
      ],
      "metadata": {
        "colab": {
          "base_uri": "https://localhost:8080/"
        },
        "id": "ks-4FLN0UhfY",
        "outputId": "87e0a4f0-1c35-49d6-afa1-1e2835944407"
      },
      "execution_count": 12,
      "outputs": [
        {
          "output_type": "stream",
          "name": "stdout",
          "text": [
            "EPOCH:   0\n",
            "batch 8 loss: 2.462013363838196 acc: 10.9375 % \n",
            "batch 16 loss: 2.1898592114448547 acc: 18.75 % \n",
            "batch 24 loss: 2.271670714020729 acc: 14.0625 % \n",
            "batch 32 loss: 2.150719106197357 acc: 18.75 % \n",
            "batch 40 loss: 2.1617210507392883 acc: 17.1875 % \n",
            "batch 48 loss: 2.1626975685358047 acc: 7.8125 % \n",
            "LOSS train 2.163 valid 4.342635297775269\n",
            "avg loss  4.342635297775269\n",
            "EPOCH:   1\n",
            "batch 8 loss: 2.0033775120973587 acc: 15.625 % \n",
            "batch 16 loss: 2.1160880625247955 acc: 12.5 % \n",
            "batch 24 loss: 2.0783272981643677 acc: 23.4375 % \n",
            "batch 32 loss: 2.0883347392082214 acc: 15.625 % \n",
            "batch 40 loss: 2.0947217643260956 acc: 12.5 % \n",
            "batch 48 loss: 1.9989029318094254 acc: 17.1875 % \n",
            "LOSS train 1.999 valid 4.177090716362\n",
            "avg loss  4.177090716362\n",
            "EPOCH:   2\n",
            "batch 8 loss: 2.0194744020700455 acc: 21.875 % \n",
            "batch 16 loss: 1.8955931961536407 acc: 28.125 % \n",
            "batch 24 loss: 1.894225850701332 acc: 31.25 % \n",
            "batch 32 loss: 1.9293093532323837 acc: 21.875 % \n",
            "batch 40 loss: 2.0422987788915634 acc: 26.5625 % \n",
            "batch 48 loss: 1.9898885935544968 acc: 15.625 % \n",
            "LOSS train 1.990 valid 4.001364374160767\n",
            "avg loss  4.001364374160767\n",
            "EPOCH:   3\n",
            "batch 8 loss: 1.9270182996988297 acc: 31.25 % \n",
            "batch 16 loss: 1.870976746082306 acc: 26.5625 % \n",
            "batch 24 loss: 1.8364664316177368 acc: 34.375 % \n",
            "batch 32 loss: 1.982901081442833 acc: 21.875 % \n",
            "batch 40 loss: 1.872820794582367 acc: 39.0625 % \n",
            "batch 48 loss: 1.899210810661316 acc: 32.8125 % \n",
            "LOSS train 1.899 valid 3.8783608436584474\n",
            "avg loss  3.8783608436584474\n",
            "EPOCH:   4\n",
            "batch 8 loss: 1.7831763327121735 acc: 40.625 % \n",
            "batch 16 loss: 1.831720232963562 acc: 31.25 % \n",
            "batch 24 loss: 1.767234742641449 acc: 40.625 % \n",
            "batch 32 loss: 1.8961149901151657 acc: 28.125 % \n",
            "batch 40 loss: 1.8417816162109375 acc: 31.25 % \n",
            "batch 48 loss: 1.8759838342666626 acc: 29.6875 % \n",
            "LOSS train 1.876 valid 3.7627416849136353\n",
            "avg loss  3.7627416849136353\n",
            "EPOCH:   5\n",
            "batch 8 loss: 1.7405761927366257 acc: 42.1875 % \n",
            "batch 16 loss: 1.7805581390857697 acc: 32.8125 % \n",
            "batch 24 loss: 1.7494115978479385 acc: 40.625 % \n",
            "batch 32 loss: 1.736968144774437 acc: 42.1875 % \n",
            "batch 40 loss: 1.7675139158964157 acc: 39.0625 % \n",
            "batch 48 loss: 1.7727518677711487 acc: 37.5 % \n",
            "LOSS train 1.773 valid 3.6167015552520754\n",
            "avg loss  3.6167015552520754\n",
            "EPOCH:   6\n",
            "batch 8 loss: 1.7931825518608093 acc: 39.0625 % \n",
            "batch 16 loss: 1.6498323827981949 acc: 42.1875 % \n",
            "batch 24 loss: 1.5870082080364227 acc: 56.25 % \n",
            "batch 32 loss: 1.7928232103586197 acc: 37.5 % \n",
            "batch 40 loss: 1.6288095563650131 acc: 48.4375 % \n",
            "batch 48 loss: 1.6717582195997238 acc: 50.0 % \n",
            "LOSS train 1.672 valid 3.489910674095154\n",
            "avg loss  3.489910674095154\n",
            "EPOCH:   7\n",
            "batch 8 loss: 1.6905952841043472 acc: 40.625 % \n",
            "batch 16 loss: 1.6311772614717484 acc: 40.625 % \n",
            "batch 24 loss: 1.564678579568863 acc: 54.6875 % \n",
            "batch 32 loss: 1.8033163994550705 acc: 32.8125 % \n",
            "batch 40 loss: 1.6156347543001175 acc: 51.5625 % \n",
            "batch 48 loss: 1.6409139782190323 acc: 40.625 % \n",
            "LOSS train 1.641 valid 3.4034501552581786\n",
            "avg loss  3.4034501552581786\n",
            "EPOCH:   8\n",
            "batch 8 loss: 1.6369038671255112 acc: 59.375 % \n",
            "batch 16 loss: 1.7423870116472244 acc: 35.9375 % \n",
            "batch 24 loss: 1.655813679099083 acc: 50.0 % \n",
            "batch 32 loss: 1.5772016048431396 acc: 51.5625 % \n",
            "batch 40 loss: 1.561032310128212 acc: 53.125 % \n",
            "batch 48 loss: 1.5590082854032516 acc: 57.8125 % \n",
            "LOSS train 1.559 valid 3.324890112876892\n",
            "avg loss  3.324890112876892\n",
            "EPOCH:   9\n",
            "batch 8 loss: 1.6040122210979462 acc: 50.0 % \n",
            "batch 16 loss: 1.571956306695938 acc: 53.125 % \n",
            "batch 24 loss: 1.4923861771821976 acc: 56.25 % \n",
            "batch 32 loss: 1.4731216877698898 acc: 59.375 % \n",
            "batch 40 loss: 1.541701152920723 acc: 50.0 % \n",
            "batch 48 loss: 1.5242122560739517 acc: 54.6875 % \n",
            "LOSS train 1.524 valid 3.227021360397339\n",
            "avg loss  3.227021360397339\n",
            "EPOCH:   10\n",
            "batch 8 loss: 1.4920514971017838 acc: 59.375 % \n",
            "batch 16 loss: 1.494103342294693 acc: 57.8125 % \n",
            "batch 24 loss: 1.5227685123682022 acc: 51.5625 % \n",
            "batch 32 loss: 1.4661844968795776 acc: 51.5625 % \n",
            "batch 40 loss: 1.583406537771225 acc: 46.875 % \n",
            "batch 48 loss: 1.3988588005304337 acc: 64.0625 % \n",
            "LOSS train 1.399 valid 3.155366396903992\n",
            "avg loss  3.155366396903992\n",
            "EPOCH:   11\n",
            "batch 8 loss: 1.50694240629673 acc: 54.6875 % \n",
            "batch 16 loss: 1.491527646780014 acc: 57.8125 % \n",
            "batch 24 loss: 1.3728537857532501 acc: 62.5 % \n",
            "batch 32 loss: 1.5485936850309372 acc: 50.0 % \n",
            "batch 40 loss: 1.4813482463359833 acc: 53.125 % \n",
            "batch 48 loss: 1.3296622782945633 acc: 67.1875 % \n",
            "LOSS train 1.330 valid 3.1193909645080566\n",
            "avg loss  3.1193909645080566\n",
            "EPOCH:   12\n",
            "batch 8 loss: 1.5414818674325943 acc: 46.875 % \n",
            "batch 16 loss: 1.4583438783884048 acc: 60.9375 % \n",
            "batch 24 loss: 1.5272019654512405 acc: 45.3125 % \n",
            "batch 32 loss: 1.328262060880661 acc: 60.9375 % \n",
            "batch 40 loss: 1.2756191343069077 acc: 68.75 % \n",
            "batch 48 loss: 1.4826544672250748 acc: 60.9375 % \n",
            "LOSS train 1.483 valid 3.068786859512329\n",
            "avg loss  3.068786859512329\n",
            "EPOCH:   13\n",
            "batch 8 loss: 1.4876510798931122 acc: 50.0 % \n",
            "batch 16 loss: 1.201822929084301 acc: 73.4375 % \n",
            "batch 24 loss: 1.5720132738351822 acc: 51.5625 % \n",
            "batch 32 loss: 1.2917282581329346 acc: 62.5 % \n",
            "batch 40 loss: 1.4621063470840454 acc: 60.9375 % \n",
            "batch 48 loss: 1.3801130205392838 acc: 60.9375 % \n",
            "LOSS train 1.380 valid 2.980322527885437\n",
            "avg loss  2.980322527885437\n",
            "EPOCH:   14\n",
            "batch 8 loss: 1.3011347129940987 acc: 65.625 % \n",
            "batch 16 loss: 1.422786921262741 acc: 59.375 % \n",
            "batch 24 loss: 1.341308668255806 acc: 60.9375 % \n",
            "batch 32 loss: 1.455162599682808 acc: 57.8125 % \n",
            "batch 40 loss: 1.2633392214775085 acc: 67.1875 % \n",
            "batch 48 loss: 1.3547613322734833 acc: 59.375 % \n",
            "LOSS train 1.355 valid 2.943026041984558\n",
            "avg loss  2.943026041984558\n",
            "EPOCH:   15\n",
            "batch 8 loss: 1.312584787607193 acc: 60.9375 % \n",
            "batch 16 loss: 1.2843253016471863 acc: 59.375 % \n",
            "batch 24 loss: 1.4159223288297653 acc: 51.5625 % \n",
            "batch 32 loss: 1.4251284748315811 acc: 57.8125 % \n",
            "batch 40 loss: 1.3597950041294098 acc: 62.5 % \n",
            "batch 48 loss: 1.2405006289482117 acc: 71.875 % \n",
            "LOSS train 1.241 valid 2.9361510992050173\n",
            "avg loss  2.9361510992050173\n",
            "EPOCH:   16\n",
            "batch 8 loss: 1.3393340408802032 acc: 57.8125 % \n",
            "batch 16 loss: 1.2881191819906235 acc: 64.0625 % \n",
            "batch 24 loss: 1.3963424265384674 acc: 56.25 % \n",
            "batch 32 loss: 1.244171179831028 acc: 68.75 % \n",
            "batch 40 loss: 1.326796993613243 acc: 60.9375 % \n",
            "batch 48 loss: 1.3348685801029205 acc: 65.625 % \n",
            "LOSS train 1.335 valid 2.877963972091675\n",
            "avg loss  2.877963972091675\n",
            "EPOCH:   17\n",
            "batch 8 loss: 1.3619597852230072 acc: 60.9375 % \n",
            "batch 16 loss: 1.2009998932480812 acc: 68.75 % \n",
            "batch 24 loss: 1.3204661756753922 acc: 65.625 % \n",
            "batch 32 loss: 1.2572796791791916 acc: 64.0625 % \n",
            "batch 40 loss: 1.1553710475564003 acc: 71.875 % \n",
            "batch 48 loss: 1.211767703294754 acc: 65.625 % \n",
            "LOSS train 1.212 valid 2.831935739517212\n",
            "avg loss  2.831935739517212\n",
            "EPOCH:   18\n",
            "batch 8 loss: 1.3640613555908203 acc: 54.6875 % \n",
            "batch 16 loss: 1.2433358207345009 acc: 68.75 % \n",
            "batch 24 loss: 1.2122788801789284 acc: 67.1875 % \n",
            "batch 32 loss: 1.1408158391714096 acc: 76.5625 % \n",
            "batch 40 loss: 1.2344889715313911 acc: 67.1875 % \n",
            "batch 48 loss: 1.3324494510889053 acc: 59.375 % \n",
            "LOSS train 1.332 valid 2.744565463066101\n",
            "avg loss  2.744565463066101\n",
            "EPOCH:   19\n",
            "batch 8 loss: 1.3497265428304672 acc: 53.125 % \n",
            "batch 16 loss: 1.1671334207057953 acc: 65.625 % \n",
            "batch 24 loss: 1.2134798914194107 acc: 67.1875 % \n",
            "batch 32 loss: 1.2207170501351357 acc: 60.9375 % \n",
            "batch 40 loss: 1.2960101217031479 acc: 62.5 % \n",
            "batch 48 loss: 1.259808011353016 acc: 68.75 % \n",
            "LOSS train 1.260 valid 2.7546471118927003\n",
            "avg loss  2.7546471118927003\n",
            "EPOCH:   20\n",
            "batch 8 loss: 1.371631994843483 acc: 51.5625 % \n",
            "batch 16 loss: 1.2750667557120323 acc: 65.625 % \n",
            "batch 24 loss: 1.2504300698637962 acc: 65.625 % \n",
            "batch 32 loss: 1.2869134694337845 acc: 64.0625 % \n",
            "batch 40 loss: 1.2271677926182747 acc: 59.375 % \n",
            "batch 48 loss: 1.2087545841932297 acc: 65.625 % \n",
            "LOSS train 1.209 valid 2.6802140831947328\n",
            "avg loss  2.6802140831947328\n",
            "EPOCH:   21\n",
            "batch 8 loss: 1.177583858370781 acc: 64.0625 % \n",
            "batch 16 loss: 1.1898367926478386 acc: 67.1875 % \n",
            "batch 24 loss: 1.3448250591754913 acc: 57.8125 % \n",
            "batch 32 loss: 1.2679286003112793 acc: 60.9375 % \n",
            "batch 40 loss: 1.237902544438839 acc: 65.625 % \n",
            "batch 48 loss: 1.2946163043379784 acc: 62.5 % \n",
            "LOSS train 1.295 valid 2.6809656262397765\n",
            "avg loss  2.6809656262397765\n",
            "EPOCH:   22\n",
            "batch 8 loss: 1.2160679474473 acc: 65.625 % \n",
            "batch 16 loss: 1.1520219892263412 acc: 76.5625 % \n",
            "batch 24 loss: 1.2954162135720253 acc: 57.8125 % \n",
            "batch 32 loss: 1.2754583060741425 acc: 59.375 % \n",
            "batch 40 loss: 1.116935208439827 acc: 75.0 % \n",
            "batch 48 loss: 1.2505503371357918 acc: 57.8125 % \n",
            "LOSS train 1.251 valid 2.652789258956909\n",
            "avg loss  2.652789258956909\n",
            "EPOCH:   23\n",
            "batch 8 loss: 1.079433612525463 acc: 78.125 % \n",
            "batch 16 loss: 1.1665841788053513 acc: 67.1875 % \n",
            "batch 24 loss: 1.2028897851705551 acc: 67.1875 % \n",
            "batch 32 loss: 1.1758391559123993 acc: 62.5 % \n",
            "batch 40 loss: 1.0803500041365623 acc: 73.4375 % \n",
            "batch 48 loss: 1.290832780301571 acc: 54.6875 % \n",
            "LOSS train 1.291 valid 2.6051584839820863\n",
            "avg loss  2.6051584839820863\n",
            "EPOCH:   24\n",
            "batch 8 loss: 1.2090234532952309 acc: 64.0625 % \n",
            "batch 16 loss: 1.1027898639440536 acc: 62.5 % \n",
            "batch 24 loss: 0.9939631372690201 acc: 76.5625 % \n",
            "batch 32 loss: 1.2853217124938965 acc: 59.375 % \n",
            "batch 40 loss: 1.2270296439528465 acc: 70.3125 % \n",
            "batch 48 loss: 1.2758755087852478 acc: 62.5 % \n",
            "LOSS train 1.276 valid 2.6006988644599915\n",
            "avg loss  2.6006988644599915\n",
            "EPOCH:   25\n",
            "batch 8 loss: 1.0858538001775742 acc: 67.1875 % \n",
            "batch 16 loss: 1.27539823949337 acc: 59.375 % \n",
            "batch 24 loss: 1.1477360352873802 acc: 64.0625 % \n",
            "batch 32 loss: 1.1988906785845757 acc: 67.1875 % \n",
            "batch 40 loss: 1.2276365831494331 acc: 57.8125 % \n",
            "batch 48 loss: 1.225102812051773 acc: 65.625 % \n",
            "LOSS train 1.225 valid 2.6057288527488707\n",
            "avg loss  2.6057288527488707\n",
            "EPOCH:   26\n",
            "batch 8 loss: 1.1083124056458473 acc: 68.75 % \n",
            "batch 16 loss: 1.1840593069791794 acc: 64.0625 % \n",
            "batch 24 loss: 1.06765566021204 acc: 75.0 % \n",
            "batch 32 loss: 1.1621948555111885 acc: 65.625 % \n",
            "batch 40 loss: 1.0156027674674988 acc: 75.0 % \n",
            "batch 48 loss: 1.2881865948438644 acc: 56.25 % \n",
            "LOSS train 1.288 valid 2.566574215888977\n",
            "avg loss  2.566574215888977\n",
            "EPOCH:   27\n",
            "batch 8 loss: 1.1360009238123894 acc: 68.75 % \n",
            "batch 16 loss: 1.094443954527378 acc: 65.625 % \n",
            "batch 24 loss: 1.1486099511384964 acc: 70.3125 % \n",
            "batch 32 loss: 1.1143911629915237 acc: 71.875 % \n",
            "batch 40 loss: 1.1098231077194214 acc: 76.5625 % \n",
            "batch 48 loss: 1.136123351752758 acc: 67.1875 % \n",
            "LOSS train 1.136 valid 2.5928878664970396\n",
            "avg loss  2.5928878664970396\n",
            "EPOCH:   28\n",
            "batch 8 loss: 1.2173276469111443 acc: 62.5 % \n",
            "batch 16 loss: 1.123926505446434 acc: 67.1875 % \n",
            "batch 24 loss: 1.0814345926046371 acc: 71.875 % \n",
            "batch 32 loss: 0.9750791862607002 acc: 75.0 % \n",
            "batch 40 loss: 1.185499407351017 acc: 67.1875 % \n",
            "batch 48 loss: 1.005282610654831 acc: 67.1875 % \n",
            "LOSS train 1.005 valid 2.5556636333465574\n",
            "avg loss  2.5556636333465574\n",
            "EPOCH:   29\n",
            "batch 8 loss: 0.9815424382686615 acc: 81.25 % \n",
            "batch 16 loss: 1.2370766997337341 acc: 57.8125 % \n",
            "batch 24 loss: 1.1916893795132637 acc: 65.625 % \n",
            "batch 32 loss: 1.090586856007576 acc: 70.3125 % \n",
            "batch 40 loss: 1.1062707901000977 acc: 68.75 % \n",
            "batch 48 loss: 1.087995059788227 acc: 71.875 % \n",
            "LOSS train 1.088 valid 2.528720796108246\n",
            "avg loss  2.528720796108246\n"
          ]
        }
      ]
    },
    {
      "cell_type": "code",
      "source": [
        "max(val_acc)"
      ],
      "metadata": {
        "colab": {
          "base_uri": "https://localhost:8080/"
        },
        "id": "dBmmMNdA81Fg",
        "outputId": "efda1e16-a421-45af-f3a9-c2954a9be2df"
      },
      "execution_count": 13,
      "outputs": [
        {
          "output_type": "execute_result",
          "data": {
            "text/plain": [
              "55.0"
            ]
          },
          "metadata": {},
          "execution_count": 13
        }
      ]
    },
    {
      "cell_type": "code",
      "source": [
        "#PLOT LOSS AND ACCURACY CHANGE OF TRAIN AND VALIDATION SET\n",
        "def plot(list1,list2,title,name,type):\n",
        "  plt.plot(range(1,num_epoch+1),list1,  label = \"Train\")\n",
        "  plt.plot(range(1,num_epoch+1),list2, label = \"Validation\")\n",
        "  plt.xlabel(\"Epoch\")\n",
        "  plt.ylabel(type)\n",
        "  plt.title(title)\n",
        "  plt.legend()\n",
        "  filename = f\"{name}.png\"\n",
        "  plt.savefig(filename)\n",
        "  plt.show()\n",
        "\n",
        "plot(train_acc,val_acc,\"Accuracy change with Batch = 8\",\"Accuracy_b_8\",\"Accuracy\")\n",
        "plot(train_loss,val_loss,\"Loss change with Batch = 8\",\"Loss_b_8\",\"Loss\")"
      ],
      "metadata": {
        "colab": {
          "base_uri": "https://localhost:8080/",
          "height": 927
        },
        "id": "SKNxhHpv86N_",
        "outputId": "18d6db0f-ed9e-42b8-9091-6104c8ae9868"
      },
      "execution_count": 14,
      "outputs": [
        {
          "output_type": "display_data",
          "data": {
            "text/plain": [
              "<Figure size 640x480 with 1 Axes>"
            ],
            "image/png": "[encoded data removed]"
          },
          "metadata": {}
        },
        {
          "output_type": "display_data",
          "data": {
            "text/plain": [
              "<Figure size 640x480 with 1 Axes>"
            ],
            "image/png": "[encoded data removed]"
          },
          "metadata": {}
        }
      ]
    },
    {
      "cell_type": "markdown",
      "source": [
        "###TEST USING BEST MODEL"
      ],
      "metadata": {
        "id": "gbP1sGTBvW_S"
      }
    },
    {
      "cell_type": "code",
      "source": [
        "def test(model, device, test_loader):\n",
        "    # Switch the model to evaluation mode (so we don't backpropagate or drop)\n",
        "    model.eval()\n",
        "    test_loss = 0\n",
        "    correct = 0\n",
        "    predicted_labels = []\n",
        "    true_labels = []\n",
        "    with torch.no_grad():\n",
        "        batch_count = 0\n",
        "        for data, target in test_loader:\n",
        "            batch_count += 1\n",
        "            data, target = data.to(device), target.to(device)\n",
        "            # Get the predicted classes for this batch\n",
        "            output = model(data)\n",
        "\n",
        "            # Calculate the loss for this batch\n",
        "            test_loss += criterion(output, target).item()\n",
        "\n",
        "\n",
        "            # Calculate the accuracy for this batch\n",
        "            _, predicted = torch.max(output.data, 1)\n",
        "            correct += torch.sum(target==predicted).item()\n",
        "            predicted_labels.extend(predicted.tolist())\n",
        "            true_labels.extend(target.tolist())\n",
        "\n",
        "    # Calculate the average loss and total accuracy for this epoch\n",
        "    avg_loss = test_loss / batch_count\n",
        "    print('Test set: Average loss: {:.3f}, Accuracy: {}/{} ({:.1f}%)\\n'.format(\n",
        "        avg_loss, correct, len(test_loader.dataset),\n",
        "        100. * correct / len(test_loader.dataset)))\n",
        "    # return average loss for the epoch\n",
        "\n",
        "    return avg_loss, true_labels, predicted_labels\n",
        "\n",
        "avg_loss, true_labels, predicted_labels = test(best_model, device, testloader)"
      ],
      "metadata": {
        "colab": {
          "base_uri": "https://localhost:8080/"
        },
        "id": "sMh5PxqZ9AJv",
        "outputId": "0a94530f-74b7-400c-ca4e-662f88b43896"
      },
      "execution_count": 15,
      "outputs": [
        {
          "output_type": "stream",
          "name": "stdout",
          "text": [
            "Validation set: Average loss: 1.345, Accuracy: 43/80 (53.8%)\n",
            "\n"
          ]
        }
      ]
    },
    {
      "cell_type": "code",
      "source": [
        "# Calculate the confusion matrix\n",
        "from sklearn.metrics import confusion_matrix\n",
        "import pandas as pd\n",
        "import matplotlib.pyplot as plt\n",
        "import numpy as np\n",
        "import seaborn as sns\n",
        "\n",
        "\n",
        "\n",
        "def confusion(true_labels, predicted_labels):\n",
        "  cm = confusion_matrix(true_labels, predicted_labels)\n",
        "  cm_df = pd.DataFrame(cm,\n",
        "                     index = classes,\n",
        "                     columns = classes)\n",
        "  plt.figure(figsize=(5,4))\n",
        "\n",
        "  sns.heatmap(cm_df, annot=True)\n",
        "  plt.title('Confusion Matrix')\n",
        "  plt.ylabel('Actual Values')\n",
        "  plt.xlabel('Predicted Values')\n",
        "  plt.show()\n"
      ],
      "metadata": {
        "id": "avLXfsy69CB7"
      },
      "execution_count": 16,
      "outputs": []
    },
    {
      "cell_type": "code",
      "source": [
        "confusion(true_labels, predicted_labels)"
      ],
      "metadata": {
        "colab": {
          "base_uri": "https://localhost:8080/",
          "height": 525
        },
        "id": "FddKgUjZ9F03",
        "outputId": "9ba4e65a-252f-4cf0-fefd-a6ef554358bb"
      },
      "execution_count": 17,
      "outputs": [
        {
          "output_type": "display_data",
          "data": {
            "text/plain": [
              "<Figure size 500x400 with 2 Axes>"
            ],
            "image/png": "[encoded data removed]"
          },
          "metadata": {}
        }
      ]
    },
    {
      "cell_type": "markdown",
      "source": [
        "##PART 2.2"
      ],
      "metadata": {
        "id": "DeVarWtoviv3"
      }
    },
    {
      "cell_type": "code",
      "source": [
        "import torch\n",
        "import torch.nn as nn\n",
        "import torchvision.models as models\n",
        "\n",
        "# Load pre-trained ResNet-18\n",
        "model = models.resnet18(pretrained=True)\n",
        "\n",
        "# Freeze layers up to the second-to-last convolutional layer\n",
        "for param in model.parameters():\n",
        "    param.requires_grad = False\n",
        "\n",
        "# Unfreeze the last two convolutional layers\n",
        "for param in model.layer4.parameters():\n",
        "    param.requires_grad = True\n",
        "for param in model.layer3.parameters():\n",
        "    param.requires_grad = True\n",
        "\n",
        "# Modify the FC layer\n",
        "num_classes = 8\n",
        "model.fc = nn.Linear(model.fc.in_features, num_classes)\n",
        "\n",
        "\n",
        "criterion = nn.CrossEntropyLoss()\n",
        "optimizer = torch.optim.SGD(\n",
        "    [\n",
        "        {\"params\": model.layer4.parameters()},\n",
        "        {\"params\": model.layer3.parameters()},\n",
        "        {\"params\": model.fc.parameters()},\n",
        "    ],\n",
        "    lr=0.0001,\n",
        "    momentum=0.9,\n",
        ")\n"
      ],
      "metadata": {
        "id": "UiEeA9eEliqu"
      },
      "execution_count": null,
      "outputs": []
    },
    {
      "cell_type": "code",
      "source": [
        "#TRAINING - VALIDATION\n",
        "train_loss, train_acc, val_loss, val_acc, best_model = train_val(model)"
      ],
      "metadata": {
        "colab": {
          "base_uri": "https://localhost:8080/"
        },
        "id": "DQjrMjX4ltuC",
        "outputId": "bfc8af13-a76e-4dc0-eb8b-1e8184fb3e93"
      },
      "execution_count": 18,
      "outputs": [
        {
          "output_type": "stream",
          "name": "stdout",
          "text": [
            "EPOCH:   0\n",
            "batch 8 loss: 1.1271340101957321 acc: 65.625 % \n",
            "batch 16 loss: 1.1592981740832329 acc: 65.625 % \n",
            "batch 24 loss: 1.0900954455137253 acc: 68.75 % \n",
            "batch 32 loss: 1.163564994931221 acc: 62.5 % \n",
            "batch 40 loss: 1.1014495939016342 acc: 65.625 % \n",
            "batch 48 loss: 1.0289713740348816 acc: 67.1875 % \n",
            "LOSS train 1.029 valid 2.4975629687309264\n",
            "avg loss  2.4975629687309264\n",
            "EPOCH:   1\n",
            "batch 8 loss: 1.10525082051754 acc: 68.75 % \n",
            "batch 16 loss: 1.0283756256103516 acc: 71.875 % \n",
            "batch 24 loss: 1.0847142338752747 acc: 70.3125 % \n",
            "batch 32 loss: 1.164181798696518 acc: 59.375 % \n",
            "batch 40 loss: 1.0145838856697083 acc: 75.0 % \n",
            "batch 48 loss: 1.0350156798958778 acc: 76.5625 % \n",
            "LOSS train 1.035 valid 2.5097560405731203\n",
            "avg loss  2.5097560405731203\n",
            "EPOCH:   2\n",
            "batch 8 loss: 1.1231400072574615 acc: 68.75 % \n",
            "batch 16 loss: 1.119652882218361 acc: 67.1875 % \n",
            "batch 24 loss: 1.065102830529213 acc: 76.5625 % \n",
            "batch 32 loss: 1.0610743463039398 acc: 64.0625 % \n",
            "batch 40 loss: 0.9976982325315475 acc: 73.4375 % \n",
            "batch 48 loss: 1.0314946547150612 acc: 71.875 % \n",
            "LOSS train 1.031 valid 2.519115388393402\n",
            "avg loss  2.519115388393402\n",
            "EPOCH:   3\n",
            "batch 8 loss: 1.1081403568387032 acc: 65.625 % \n",
            "batch 16 loss: 1.0537088364362717 acc: 70.3125 % \n",
            "batch 24 loss: 1.165071852505207 acc: 62.5 % \n",
            "batch 32 loss: 1.0807291716337204 acc: 68.75 % \n",
            "batch 40 loss: 1.14623261988163 acc: 65.625 % \n",
            "batch 48 loss: 0.9637032747268677 acc: 68.75 % \n",
            "LOSS train 0.964 valid 2.4598108768463134\n",
            "avg loss  2.4598108768463134\n",
            "EPOCH:   4\n",
            "batch 8 loss: 1.0994779095053673 acc: 70.3125 % \n",
            "batch 16 loss: 1.023113265633583 acc: 75.0 % \n",
            "batch 24 loss: 1.13137698918581 acc: 67.1875 % \n",
            "batch 32 loss: 0.9970985502004623 acc: 75.0 % \n",
            "batch 40 loss: 1.0311047360301018 acc: 70.3125 % \n",
            "batch 48 loss: 0.9014885425567627 acc: 81.25 % \n",
            "LOSS train 0.901 valid 2.443719577789307\n",
            "avg loss  2.443719577789307\n",
            "EPOCH:   5\n",
            "batch 8 loss: 0.9765904694795609 acc: 70.3125 % \n",
            "batch 16 loss: 1.0050420463085175 acc: 71.875 % \n",
            "batch 24 loss: 1.183717131614685 acc: 60.9375 % \n",
            "batch 32 loss: 0.9784670770168304 acc: 78.125 % \n",
            "batch 40 loss: 1.0327108651399612 acc: 65.625 % \n",
            "batch 48 loss: 1.0665046721696854 acc: 75.0 % \n",
            "LOSS train 1.067 valid 2.463684320449829\n",
            "avg loss  2.463684320449829\n",
            "EPOCH:   6\n",
            "batch 8 loss: 1.0256386622786522 acc: 68.75 % \n",
            "batch 16 loss: 1.0899112448096275 acc: 65.625 % \n",
            "batch 24 loss: 1.0634649097919464 acc: 62.5 % \n",
            "batch 32 loss: 0.9962150156497955 acc: 67.1875 % \n",
            "batch 40 loss: 1.188307762145996 acc: 57.8125 % \n",
            "batch 48 loss: 1.1077653244137764 acc: 70.3125 % \n",
            "LOSS train 1.108 valid 2.4280905723571777\n",
            "avg loss  2.4280905723571777\n",
            "EPOCH:   7\n",
            "batch 8 loss: 0.9955893829464912 acc: 76.5625 % \n",
            "batch 16 loss: 0.9589006006717682 acc: 73.4375 % \n",
            "batch 24 loss: 1.0775369182229042 acc: 67.1875 % \n",
            "batch 32 loss: 1.092229001224041 acc: 71.875 % \n",
            "batch 40 loss: 1.1563129499554634 acc: 73.4375 % \n",
            "batch 48 loss: 1.0370419695973396 acc: 71.875 % \n",
            "LOSS train 1.037 valid 2.389596474170685\n",
            "avg loss  2.389596474170685\n",
            "EPOCH:   8\n",
            "batch 8 loss: 0.999895840883255 acc: 76.5625 % \n",
            "batch 16 loss: 1.0633930787444115 acc: 71.875 % \n",
            "batch 24 loss: 1.0621144697070122 acc: 62.5 % \n",
            "batch 32 loss: 1.0308753177523613 acc: 78.125 % \n",
            "batch 40 loss: 1.1632035598158836 acc: 57.8125 % \n",
            "batch 48 loss: 1.040637269616127 acc: 68.75 % \n",
            "LOSS train 1.041 valid 2.445573401451111\n",
            "avg loss  2.445573401451111\n",
            "EPOCH:   9\n",
            "batch 8 loss: 0.9721145778894424 acc: 70.3125 % \n",
            "batch 16 loss: 0.9758422300219536 acc: 73.4375 % \n",
            "batch 24 loss: 1.0113228037953377 acc: 68.75 % \n",
            "batch 32 loss: 0.8937058597803116 acc: 73.4375 % \n",
            "batch 40 loss: 1.0757025703787804 acc: 68.75 % \n",
            "batch 48 loss: 1.0088231265544891 acc: 67.1875 % \n",
            "LOSS train 1.009 valid 2.3967739939689636\n",
            "avg loss  2.3967739939689636\n",
            "EPOCH:   10\n",
            "batch 8 loss: 1.157985232770443 acc: 62.5 % \n",
            "batch 16 loss: 0.9810694605112076 acc: 71.875 % \n",
            "batch 24 loss: 0.9295521080493927 acc: 73.4375 % \n",
            "batch 32 loss: 0.9688275158405304 acc: 76.5625 % \n",
            "batch 40 loss: 1.017902448773384 acc: 64.0625 % \n",
            "batch 48 loss: 1.020908921957016 acc: 68.75 % \n",
            "LOSS train 1.021 valid 2.367594027519226\n",
            "avg loss  2.367594027519226\n",
            "EPOCH:   11\n",
            "batch 8 loss: 0.9916224107146263 acc: 65.625 % \n",
            "batch 16 loss: 0.850472092628479 acc: 81.25 % \n",
            "batch 24 loss: 0.8849381506443024 acc: 75.0 % \n",
            "batch 32 loss: 0.9699646010994911 acc: 76.5625 % \n",
            "batch 40 loss: 0.9954593703150749 acc: 73.4375 % \n",
            "batch 48 loss: 1.1298851892352104 acc: 62.5 % \n",
            "LOSS train 1.130 valid 2.383799409866333\n",
            "avg loss  2.383799409866333\n",
            "EPOCH:   12\n",
            "batch 8 loss: 0.9749163836240768 acc: 75.0 % \n",
            "batch 16 loss: 1.080848477780819 acc: 65.625 % \n",
            "batch 24 loss: 0.9862951636314392 acc: 67.1875 % \n",
            "batch 32 loss: 1.0109169036149979 acc: 75.0 % \n",
            "batch 40 loss: 0.8636818006634712 acc: 78.125 % \n",
            "batch 48 loss: 0.9814284592866898 acc: 73.4375 % \n",
            "LOSS train 0.981 valid 2.3353173971176147\n",
            "avg loss  2.3353173971176147\n",
            "EPOCH:   13\n",
            "batch 8 loss: 1.001670591533184 acc: 75.0 % \n",
            "batch 16 loss: 0.9545929171144962 acc: 75.0 % \n",
            "batch 24 loss: 0.9855747297406197 acc: 68.75 % \n",
            "batch 32 loss: 1.1082107871770859 acc: 64.0625 % \n",
            "batch 40 loss: 0.9599936753511429 acc: 67.1875 % \n",
            "batch 48 loss: 1.0479964017868042 acc: 62.5 % \n",
            "LOSS train 1.048 valid 2.3723705530166628\n",
            "avg loss  2.3723705530166628\n",
            "EPOCH:   14\n",
            "batch 8 loss: 1.1347241774201393 acc: 65.625 % \n",
            "batch 16 loss: 0.9519309177994728 acc: 68.75 % \n",
            "batch 24 loss: 0.8245917558670044 acc: 79.6875 % \n",
            "batch 32 loss: 0.9493414461612701 acc: 70.3125 % \n",
            "batch 40 loss: 1.0526674389839172 acc: 73.4375 % \n",
            "batch 48 loss: 0.9763197228312492 acc: 71.875 % \n",
            "LOSS train 0.976 valid 2.346354830265045\n",
            "avg loss  2.346354830265045\n",
            "EPOCH:   15\n",
            "batch 8 loss: 1.0126681253314018 acc: 68.75 % \n",
            "batch 16 loss: 0.8665923029184341 acc: 75.0 % \n",
            "batch 24 loss: 0.9528806284070015 acc: 68.75 % \n",
            "batch 32 loss: 0.8370735570788383 acc: 73.4375 % \n",
            "batch 40 loss: 0.9627447240054607 acc: 71.875 % \n",
            "batch 48 loss: 1.0192689448595047 acc: 67.1875 % \n",
            "LOSS train 1.019 valid 2.3082757949829102\n",
            "avg loss  2.3082757949829102\n",
            "EPOCH:   16\n",
            "batch 8 loss: 1.0294797793030739 acc: 65.625 % \n",
            "batch 16 loss: 1.009381242096424 acc: 71.875 % \n",
            "batch 24 loss: 0.8773052990436554 acc: 71.875 % \n",
            "batch 32 loss: 1.0113481357693672 acc: 68.75 % \n",
            "batch 40 loss: 0.8847016841173172 acc: 78.125 % \n",
            "batch 48 loss: 0.7964864373207092 acc: 78.125 % \n",
            "LOSS train 0.796 valid 2.3139872789382934\n",
            "avg loss  2.3139872789382934\n",
            "EPOCH:   17\n",
            "batch 8 loss: 0.8706494495272636 acc: 75.0 % \n",
            "batch 16 loss: 0.9446954280138016 acc: 73.4375 % \n",
            "batch 24 loss: 1.01931744068861 acc: 75.0 % \n",
            "batch 32 loss: 0.9805935099720955 acc: 71.875 % \n",
            "batch 40 loss: 1.0802250355482101 acc: 68.75 % \n",
            "batch 48 loss: 0.9328445792198181 acc: 79.6875 % \n",
            "LOSS train 0.933 valid 2.3709548830986025\n",
            "avg loss  2.3709548830986025\n",
            "EPOCH:   18\n",
            "batch 8 loss: 0.7797084487974644 acc: 79.6875 % \n",
            "batch 16 loss: 0.9843404367566109 acc: 68.75 % \n",
            "batch 24 loss: 0.9200099147856236 acc: 73.4375 % \n",
            "batch 32 loss: 1.1292032152414322 acc: 64.0625 % \n",
            "batch 40 loss: 0.8585591539740562 acc: 75.0 % \n",
            "batch 48 loss: 0.8698658645153046 acc: 76.5625 % \n",
            "LOSS train 0.870 valid 2.3043130159378054\n",
            "avg loss  2.3043130159378054\n",
            "EPOCH:   19\n",
            "batch 8 loss: 0.967563197016716 acc: 67.1875 % \n",
            "batch 16 loss: 0.9631311446428299 acc: 70.3125 % \n",
            "batch 24 loss: 1.0657462626695633 acc: 62.5 % \n",
            "batch 32 loss: 0.9740478172898293 acc: 71.875 % \n",
            "batch 40 loss: 0.8641953244805336 acc: 75.0 % \n",
            "batch 48 loss: 0.9541658535599709 acc: 78.125 % \n",
            "LOSS train 0.954 valid 2.2947898864746095\n",
            "avg loss  2.2947898864746095\n",
            "EPOCH:   20\n",
            "batch 8 loss: 0.8622435107827187 acc: 76.5625 % \n",
            "batch 16 loss: 0.9599219933152199 acc: 70.3125 % \n",
            "batch 24 loss: 0.7814984321594238 acc: 82.8125 % \n",
            "batch 32 loss: 1.0437691137194633 acc: 73.4375 % \n",
            "batch 40 loss: 0.7338224574923515 acc: 76.5625 % \n",
            "batch 48 loss: 0.9340095371007919 acc: 76.5625 % \n",
            "LOSS train 0.934 valid 2.3166167616844175\n",
            "avg loss  2.3166167616844175\n",
            "EPOCH:   21\n",
            "batch 8 loss: 0.8728010579943657 acc: 82.8125 % \n",
            "batch 16 loss: 0.9886501953005791 acc: 73.4375 % \n",
            "batch 24 loss: 0.943552628159523 acc: 71.875 % \n",
            "batch 32 loss: 0.9768145084381104 acc: 68.75 % \n",
            "batch 40 loss: 0.9312316700816154 acc: 65.625 % \n",
            "batch 48 loss: 1.0066504552960396 acc: 64.0625 % \n",
            "LOSS train 1.007 valid 2.346552348136902\n",
            "avg loss  2.346552348136902\n",
            "EPOCH:   22\n",
            "batch 8 loss: 0.9195408523082733 acc: 70.3125 % \n",
            "batch 16 loss: 0.8178853839635849 acc: 71.875 % \n",
            "batch 24 loss: 1.0087246634066105 acc: 65.625 % \n",
            "batch 32 loss: 0.8619764745235443 acc: 71.875 % \n",
            "batch 40 loss: 0.7444264069199562 acc: 78.125 % \n",
            "batch 48 loss: 0.9967398196458817 acc: 73.4375 % \n",
            "LOSS train 0.997 valid 2.3040759325027467\n",
            "avg loss  2.3040759325027467\n",
            "EPOCH:   23\n",
            "batch 8 loss: 0.8669639229774475 acc: 75.0 % \n",
            "batch 16 loss: 0.9570379331707954 acc: 67.1875 % \n",
            "batch 24 loss: 0.9475314170122147 acc: 75.0 % \n",
            "batch 32 loss: 0.9377439692616463 acc: 73.4375 % \n",
            "batch 40 loss: 0.9943174794316292 acc: 70.3125 % \n",
            "batch 48 loss: 0.9068799316883087 acc: 73.4375 % \n",
            "LOSS train 0.907 valid 2.2939793944358824\n",
            "avg loss  2.2939793944358824\n",
            "EPOCH:   24\n",
            "batch 8 loss: 0.7954116016626358 acc: 79.6875 % \n",
            "batch 16 loss: 0.828429140150547 acc: 81.25 % \n",
            "batch 24 loss: 0.9309287592768669 acc: 71.875 % \n",
            "batch 32 loss: 0.8016089648008347 acc: 75.0 % \n",
            "batch 40 loss: 0.9092040881514549 acc: 71.875 % \n",
            "batch 48 loss: 0.9595039114356041 acc: 73.4375 % \n",
            "LOSS train 0.960 valid 2.3239997267723083\n",
            "avg loss  2.3239997267723083\n",
            "EPOCH:   25\n",
            "batch 8 loss: 0.9443719238042831 acc: 76.5625 % \n",
            "batch 16 loss: 0.9067682027816772 acc: 76.5625 % \n",
            "batch 24 loss: 0.8579733148217201 acc: 78.125 % \n",
            "batch 32 loss: 1.0358046144247055 acc: 65.625 % \n",
            "batch 40 loss: 0.8960587978363037 acc: 79.6875 % \n",
            "batch 48 loss: 0.8359220325946808 acc: 75.0 % \n",
            "LOSS train 0.836 valid 2.298500823974609\n",
            "avg loss  2.298500823974609\n",
            "EPOCH:   26\n",
            "batch 8 loss: 0.9710423946380615 acc: 64.0625 % \n",
            "batch 16 loss: 0.9657016918063164 acc: 73.4375 % \n",
            "batch 24 loss: 0.963141456246376 acc: 75.0 % \n",
            "batch 32 loss: 0.7809278070926666 acc: 82.8125 % \n",
            "batch 40 loss: 0.8840009570121765 acc: 70.3125 % \n",
            "batch 48 loss: 0.7161993943154812 acc: 82.8125 % \n",
            "LOSS train 0.716 valid 2.28588981628418\n",
            "avg loss  2.28588981628418\n",
            "EPOCH:   27\n",
            "batch 8 loss: 0.9199478700757027 acc: 65.625 % \n",
            "batch 16 loss: 0.8859486281871796 acc: 75.0 % \n",
            "batch 24 loss: 1.019439548254013 acc: 70.3125 % \n",
            "batch 32 loss: 0.8408044576644897 acc: 76.5625 % \n",
            "batch 40 loss: 1.0924391821026802 acc: 59.375 % \n",
            "batch 48 loss: 0.8122639134526253 acc: 78.125 % \n",
            "LOSS train 0.812 valid 2.292530930042267\n",
            "avg loss  2.292530930042267\n",
            "EPOCH:   28\n",
            "batch 8 loss: 0.7994189560413361 acc: 79.6875 % \n",
            "batch 16 loss: 0.8069128431379795 acc: 76.5625 % \n",
            "batch 24 loss: 0.8220822960138321 acc: 75.0 % \n",
            "batch 32 loss: 1.0738079994916916 acc: 64.0625 % \n",
            "batch 40 loss: 0.8888582773506641 acc: 81.25 % \n",
            "batch 48 loss: 0.8998749256134033 acc: 75.0 % \n",
            "LOSS train 0.900 valid 2.3057326078414917\n",
            "avg loss  2.3057326078414917\n",
            "EPOCH:   29\n",
            "batch 8 loss: 1.0000668242573738 acc: 67.1875 % \n",
            "batch 16 loss: 0.8879803195595741 acc: 76.5625 % \n",
            "batch 24 loss: 1.0203715935349464 acc: 70.3125 % \n",
            "batch 32 loss: 0.764268159866333 acc: 79.6875 % \n",
            "batch 40 loss: 0.8162017352879047 acc: 70.3125 % \n",
            "batch 48 loss: 0.9236173704266548 acc: 70.3125 % \n",
            "LOSS train 0.924 valid 2.25296665430069\n",
            "avg loss  2.25296665430069\n"
          ]
        }
      ]
    },
    {
      "cell_type": "code",
      "source": [
        "max(val_acc)"
      ],
      "metadata": {
        "colab": {
          "base_uri": "https://localhost:8080/"
        },
        "id": "UgNtwngy_zou",
        "outputId": "f5937b2c-6110-4eae-d52e-fae0a010a253"
      },
      "execution_count": 19,
      "outputs": [
        {
          "output_type": "execute_result",
          "data": {
            "text/plain": [
              "60.0"
            ]
          },
          "metadata": {},
          "execution_count": 19
        }
      ]
    },
    {
      "cell_type": "code",
      "source": [
        "avg_loss, true_labels, predicted_labels = test(best_model, device, testloader)"
      ],
      "metadata": {
        "colab": {
          "base_uri": "https://localhost:8080/"
        },
        "id": "4maiTT7i_WlV",
        "outputId": "125605ee-08bc-4406-952d-ff3f141b80b4"
      },
      "execution_count": 21,
      "outputs": [
        {
          "output_type": "stream",
          "name": "stdout",
          "text": [
            "Validation set: Average loss: 1.245, Accuracy: 44/80 (55.0%)\n",
            "\n"
          ]
        }
      ]
    },
    {
      "cell_type": "code",
      "source": [
        "confusion(true_labels, predicted_labels)"
      ],
      "metadata": {
        "colab": {
          "base_uri": "https://localhost:8080/",
          "height": 525
        },
        "id": "4TQmuCbzt2d0",
        "outputId": "a852731f-73ec-48f3-b523-6fbc2ee1036c"
      },
      "execution_count": 22,
      "outputs": [
        {
          "output_type": "display_data",
          "data": {
            "text/plain": [
              "<Figure size 500x400 with 2 Axes>"
            ],
            "image/png": "[encoded data removed]"
          },
          "metadata": {}
        }
      ]
    }
  ]
}