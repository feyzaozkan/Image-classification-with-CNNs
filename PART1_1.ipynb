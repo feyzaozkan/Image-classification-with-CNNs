{
  "cells": [
    {
      "cell_type": "markdown",
      "source": [
        "#IMAGE CLASSIFICATION WITH CNNs"
      ],
      "metadata": {
        "id": "uy0O8fvXqKsx"
      }
    },
    {
      "cell_type": "markdown",
      "source": [
        "Image classification is one of the fundamental task in the field of computer vision and there are many techniques to classify images properly,one of them is CNN.\n",
        "\n",
        "The aim of this assignment, understanding  the architecture of Convolutional Neural Networks by building a model from scratch and applying that model to given images to classify them properly by using a deep learning frame PyTorch."
      ],
      "metadata": {
        "id": "bdA7mw5UqbdB"
      }
    },
    {
      "cell_type": "markdown",
      "metadata": {
        "id": "eQ9MtI2StYZC"
      },
      "source": [
        "##IMPLEMENTATION OF CNN MODEL WITHOUT RESIDUAL CONNECTION(S)"
      ]
    },
    {
      "cell_type": "code",
      "execution_count": 1,
      "metadata": {
        "id": "dcA6Ty3cRj3f"
      },
      "outputs": [],
      "source": [
        "#import necessary modules\n",
        "import os\n",
        "import random\n",
        "import shutil\n",
        "import torch\n",
        "import torch.nn as nn\n",
        "import torchvision\n",
        "import torchvision.transforms as transforms\n",
        "from torchvision.datasets import ImageFolder\n",
        "import torchvision.datasets as datasets\n",
        "import matplotlib.pyplot as plt\n",
        "import torchvision.models as models\n",
        "from torch.autograd import Variable\n",
        "from torch.optim import Adam\n",
        "from torch.optim.lr_scheduler import StepLR\n",
        "from sklearn.metrics import confusion_matrix\n",
        "\n"
      ]
    },
    {
      "cell_type": "markdown",
      "metadata": {
        "id": "uduZVSKNBcb1"
      },
      "source": [
        "###PUBLIC VARIABLES"
      ]
    },
    {
      "cell_type": "code",
      "execution_count": 2,
      "metadata": {
        "id": "PDQaV8LiBqRk"
      },
      "outputs": [],
      "source": [
        "#number of images that will be used from each class\n",
        "num_images_per_class = 70\n",
        "#number of train images that will be used from each class\n",
        "num_train_per_class = 50\n",
        "#number of validation images that will be used from each class\n",
        "num_val_per_class = 10\n",
        "\n",
        "img_size = 64\n",
        "batch_size = 8\n",
        "num_classes = 8\n",
        "learning_rate = 0.0001\n",
        "num_epoch = 30"
      ]
    },
    {
      "cell_type": "markdown",
      "metadata": {
        "id": "6AlTYZkBfbPw"
      },
      "source": [
        "###LOAD DATA"
      ]
    },
    {
      "cell_type": "code",
      "execution_count": 3,
      "metadata": {
        "colab": {
          "base_uri": "https://localhost:8080/"
        },
        "id": "lD1xFdr4he94",
        "outputId": "c341f303-5838-48d6-9cee-251bf0cd6d4c"
      },
      "outputs": [
        {
          "output_type": "stream",
          "name": "stdout",
          "text": [
            "Mounted at /content/drive\n"
          ]
        }
      ],
      "source": [
        "# Mount Google Drive\n",
        "from google.colab import drive\n",
        "drive.mount('/content/drive')\n",
        "\n",
        "#the dataset path in  Google Drive\n",
        "root_dir = \"/content/drive/MyDrive/Micro_Organism\""
      ]
    },
    {
      "cell_type": "code",
      "execution_count": 4,
      "metadata": {
        "id": "VdKr6e7qbwfv"
      },
      "outputs": [],
      "source": [
        "#create directories for train, validation, test data\n",
        "os.makedirs(\"train\")\n",
        "os.makedirs(\"validation\")\n",
        "os.makedirs(\"test\")"
      ]
    },
    {
      "cell_type": "code",
      "execution_count": 5,
      "metadata": {
        "id": "wSXTStXFZifr"
      },
      "outputs": [],
      "source": [
        "# Get the sorted list of classes (subdirectories) in the root directory\n",
        "classes = sorted(os.listdir(root_dir))\n",
        "# Iterate over each class\n",
        "for dir_name in classes:\n",
        "    #get path to images\n",
        "    images_dir = os.path.join(root_dir, dir_name)\n",
        "    #get images names\n",
        "    filenames = os.listdir(images_dir)\n",
        "    random.seed(42)\n",
        "    #shuffle images\n",
        "    random.shuffle(filenames)\n",
        "\n",
        "    # Create paths for train, validation, and test sets\n",
        "    train_path = os.path.join('train', dir_name)\n",
        "    val_path = os.path.join('validation', dir_name)\n",
        "    test_path = os.path.join('test', dir_name)\n",
        "\n",
        "    if not os.path.exists(train_path):\n",
        "        os.makedirs(train_path)\n",
        "        os.makedirs(val_path)\n",
        "        os.makedirs(test_path)\n",
        "\n",
        "    # Copy images to the respective train, validation, and test directories\n",
        "    for i in range(num_images_per_class):\n",
        "        filename = filenames[i]\n",
        "        filepath = os.path.join(images_dir, filename)\n",
        "        if (i < num_train_per_class):\n",
        "          shutil.copy(filepath, train_path)\n",
        "        elif ( i < num_train_per_class + num_val_per_class):\n",
        "          shutil.copy(filepath, val_path)\n",
        "        else:\n",
        "          shutil.copy(filepath, test_path)\n",
        "\n"
      ]
    },
    {
      "cell_type": "code",
      "execution_count": 38,
      "metadata": {
        "id": "a31qokghfxh4"
      },
      "outputs": [],
      "source": [
        "# Define  transformations to be applied to the images\n",
        "all_transforms = transforms.Compose([transforms.Resize((img_size ,img_size )),\n",
        "                                     transforms.ToTensor(),\n",
        "                                     transforms.Normalize((0.5, 0.5, 0.5), (0.5, 0.5, 0.5))\n",
        "                                     ])\n",
        "\n",
        "# Create the train,validation,test set with the given transformations\n",
        "trainset = datasets.ImageFolder(root=\"train\", transform=all_transforms)\n",
        "valset = datasets.ImageFolder(root=\"validation\", transform=all_transforms)\n",
        "testset = datasets.ImageFolder(root=\"test\", transform=all_transforms)"
      ]
    },
    {
      "cell_type": "code",
      "execution_count": 49,
      "metadata": {
        "id": "8M7URswNjm51"
      },
      "outputs": [],
      "source": [
        "# Create data loaders for the train, validation, and test sets\n",
        "trainloader = torch.utils.data.DataLoader(trainset, batch_size=batch_size,\n",
        "                                          shuffle=True, num_workers=2)\n",
        "\n",
        "validationloader = torch.utils.data.DataLoader(valset, batch_size=batch_size,\n",
        "                                          shuffle=True, num_workers=2)\n",
        "\n",
        "testloader = torch.utils.data.DataLoader(testset, batch_size=batch_size,\n",
        "                                          shuffle=True, num_workers=2)"
      ]
    },
    {
      "cell_type": "markdown",
      "metadata": {
        "id": "dC9trzfluHHr"
      },
      "source": [
        "###CNN MODEL"
      ]
    },
    {
      "cell_type": "code",
      "execution_count": 74,
      "metadata": {
        "id": "rO9cGJRKOC1K"
      },
      "outputs": [],
      "source": [
        "import torch.nn.functional as F\n",
        "class CnnModel(nn.Module):\n",
        "    def __init__(self,num_classes):\n",
        "        super( CnnModel, self).__init__()\n",
        "\n",
        "        self.layer1 = nn.Sequential(\n",
        "            nn.Conv2d(3, 16, kernel_size=3, stride=1, padding=1),\n",
        "            nn.BatchNorm2d(16),\n",
        "            nn.ReLU(),\n",
        "            nn.MaxPool2d(kernel_size = 2, stride = 2))    #output 16 x 32  x 32         input size = 64\n",
        "\n",
        "        self.layer2 = nn.Sequential(\n",
        "            nn.Conv2d(16, 32, kernel_size=3, stride=1, padding=1),\n",
        "            nn.BatchNorm2d(32),\n",
        "            nn.ReLU())                                    #output 32 x 32 x 32\n",
        "\n",
        "        self.layer3 = nn.Sequential(\n",
        "            nn.Conv2d(32, 64, kernel_size=3, stride=1, padding=1),\n",
        "            nn.BatchNorm2d(64),\n",
        "            nn.ReLU())                                    #output 64 x 32 x 32\n",
        "\n",
        "        self.layer4 = nn.Sequential(\n",
        "            nn.Conv2d(64, 64, kernel_size=3, stride=1, padding=1),\n",
        "            nn.BatchNorm2d(64),\n",
        "            nn.ReLU())                                    #output 64 x 32 x 32\n",
        "\n",
        "        self.layer5 = nn.Sequential(\n",
        "            nn.Conv2d(64, 128, kernel_size=3, stride=1, padding=1),\n",
        "            nn.BatchNorm2d(128),\n",
        "            nn.ReLU())                                   #output 128 x 32 x 32\n",
        "\n",
        "        self.layer6 = nn.Sequential(\n",
        "            nn.Conv2d(128, 128, kernel_size=3, stride=1, padding=1),\n",
        "            nn.BatchNorm2d(128),\n",
        "            nn.ReLU())                                  #output 128 x 32 x 32\n",
        "\n",
        "        self.fc = nn.Sequential(\n",
        "           #nn.Dropout(0.2),\n",
        "            nn.Flatten(),\n",
        "            nn.Linear(128 * (img_size//2) * (img_size//2), num_classes))\n",
        "\n",
        "\n",
        "    def forward(self, x):\n",
        "        out = self.layer1(x)\n",
        "        out = self.layer2(out)\n",
        "        out = self.layer3(out)\n",
        "        out = self.layer4(out)\n",
        "        out = self.layer5(out)\n",
        "        out = self.layer6(out)\n",
        "        out = out.reshape(out.size(0), -1)\n",
        "        out = self.fc(out)\n",
        "        out = F.log_softmax(out, dim=1)\n",
        "        return out\n",
        "\n",
        "\n",
        "\n"
      ]
    },
    {
      "cell_type": "markdown",
      "metadata": {
        "id": "YMQixQKFuKqh"
      },
      "source": [
        "###TRAIN & VALIDATE"
      ]
    },
    {
      "cell_type": "code",
      "execution_count": 75,
      "metadata": {
        "id": "BceJ21Y81fL-"
      },
      "outputs": [],
      "source": [
        "def train_one_epoch(model):\n",
        "  running_loss = 0.\n",
        "  running_acc = 0\n",
        "  last_loss = 0\n",
        "  last_acc = 0\n",
        "  for i, data in enumerate(trainloader):\n",
        "    # Every data instance is an input + label pair\n",
        "    inputs, labels = data\n",
        "    inputs = inputs.to(device)\n",
        "    labels = labels.to(device)\n",
        "    # Zero your gradients for every batch!\n",
        "    optimizer.zero_grad()\n",
        "    # Make predictions for this batch\n",
        "    outputs = model(inputs)\n",
        "\n",
        "    # Compute the loss and its gradients\n",
        "    loss = criterion(outputs, labels)\n",
        "    _, predicted = torch.max(outputs.data, 1)\n",
        "    loss.backward()\n",
        "    # Adjust learning weights\n",
        "    optimizer.step()\n",
        "    # Gather data and report\n",
        "    running_loss += loss.item()\n",
        "    acc =  ((predicted == labels).sum().item() / num_classes) * 100\n",
        "    running_acc += acc\n",
        "    if i % batch_size ==  batch_size-1:\n",
        "      last_loss = running_loss / batch_size  # loss per batch\n",
        "      last_acc = (running_acc / batch_size) # acc per batch\n",
        "      print('batch {} loss: {} acc: {} % '.format(i + 1, last_loss, last_acc))\n",
        "      running_loss = 0.\n",
        "      running_acc = 0.\n",
        "\n",
        "  return last_loss, last_acc\n",
        "\n",
        "def train_val(model):\n",
        "        train_loss = []\n",
        "        train_acc = []\n",
        "        val_loss = []\n",
        "        val_acc = []\n",
        "        best_models = []\n",
        "        best_models_path = []\n",
        "        best_vacc= 0\n",
        "        model.to(device)\n",
        "        for epoch in range(num_epoch):\n",
        "            print(\"EPOCH:  \" ,epoch)\n",
        "            model.train(True)\n",
        "            avg_loss , avg_acc = train_one_epoch(model)\n",
        "\n",
        "            running_vloss = 0.0\n",
        "            running_vacc = 0.0\n",
        "            model.eval()\n",
        "\n",
        "\n",
        "            # Disable gradient computation and reduce memory consumption.\n",
        "            with torch.no_grad():\n",
        "                for i, vdata in enumerate(validationloader):\n",
        "                    vinputs, vlabels = vdata\n",
        "                    vinputs = vinputs.to(device)\n",
        "                    vlabels = vlabels.to(device)\n",
        "                    voutputs = model(vinputs)\n",
        "                    vloss = criterion(voutputs, vlabels)\n",
        "                    running_vloss += vloss.item()\n",
        "\n",
        "                    _, vpredicted = torch.max(voutputs.data, 1)\n",
        "                    vacc =  ((vpredicted == vlabels).sum().item() / num_classes) * 100\n",
        "                    running_vloss += vloss.item()\n",
        "                    running_vacc += vacc\n",
        "\n",
        "\n",
        "            avg_vloss = running_vloss / (i + 1)\n",
        "            avg_vacc = running_vacc / (i + 1)\n",
        "\n",
        "            train_loss.append(avg_loss)\n",
        "            train_acc.append(avg_acc)\n",
        "            val_loss.append(avg_vloss)\n",
        "            val_acc.append(avg_vacc)\n",
        "            print('LOSS train {:.3f} valid {}'.format(avg_loss, avg_vloss))\n",
        "            print(\"avg loss \" , avg_vloss)\n",
        "            if avg_vacc > best_vacc:\n",
        "                best_vacc = avg_vacc\n",
        "                #model_path = 'model_{:.3f}_{}'.format(best_vloss, epoch)\n",
        "                best_models.append(model)\n",
        "                #best_models_path.append(model_path)\n",
        "\n",
        "        #torch.save(best_models[-1].state_dict(), best_models_path[-1])\n",
        "        return train_loss, train_acc, val_loss , val_acc , best_models[-1]\n"
      ]
    },
    {
      "cell_type": "code",
      "execution_count": 76,
      "metadata": {
        "colab": {
          "base_uri": "https://localhost:8080/"
        },
        "id": "LM1Lw9S127z_",
        "outputId": "09713861-ff1b-405f-f9c7-19bea1f0d8d9"
      },
      "outputs": [
        {
          "output_type": "stream",
          "name": "stdout",
          "text": [
            "EPOCH:   0\n",
            "batch 8 loss: 2.2689602971076965 acc: 15.625 % \n",
            "batch 16 loss: 2.601236939430237 acc: 17.1875 % \n",
            "batch 24 loss: 2.346563309431076 acc: 12.5 % \n",
            "batch 32 loss: 2.166384533047676 acc: 23.4375 % \n",
            "batch 40 loss: 2.4094762355089188 acc: 21.875 % \n",
            "batch 48 loss: 3.1020946502685547 acc: 17.1875 % \n",
            "LOSS train 3.102 valid 5.079661083221436\n",
            "avg loss  5.079661083221436\n",
            "EPOCH:   1\n",
            "batch 8 loss: 1.3138255923986435 acc: 57.8125 % \n",
            "batch 16 loss: 1.1328643411397934 acc: 65.625 % \n",
            "batch 24 loss: 0.9505987800657749 acc: 64.0625 % \n",
            "batch 32 loss: 0.9299613945186138 acc: 64.0625 % \n",
            "batch 40 loss: 1.1907665506005287 acc: 64.0625 % \n",
            "batch 48 loss: 1.180457778275013 acc: 56.25 % \n",
            "LOSS train 1.180 valid 5.2732422828674315\n",
            "avg loss  5.2732422828674315\n",
            "EPOCH:   2\n",
            "batch 8 loss: 0.44063384644687176 acc: 90.625 % \n",
            "batch 16 loss: 0.4656428280286491 acc: 84.375 % \n",
            "batch 24 loss: 0.5032762531191111 acc: 85.9375 % \n",
            "batch 32 loss: 0.2903490480966866 acc: 95.3125 % \n",
            "batch 40 loss: 0.4122713143005967 acc: 90.625 % \n",
            "batch 48 loss: 0.4498640298843384 acc: 87.5 % \n",
            "LOSS train 0.450 valid 4.6699213743209835\n",
            "avg loss  4.6699213743209835\n",
            "EPOCH:   3\n",
            "batch 8 loss: 0.257681405171752 acc: 96.875 % \n",
            "batch 16 loss: 0.21870315447449684 acc: 98.4375 % \n",
            "batch 24 loss: 0.2391927856951952 acc: 96.875 % \n",
            "batch 32 loss: 0.20324682071805 acc: 96.875 % \n",
            "batch 40 loss: 0.12444871012121439 acc: 100.0 % \n",
            "batch 48 loss: 0.28315518610179424 acc: 93.75 % \n",
            "LOSS train 0.283 valid 4.025055193901062\n",
            "avg loss  4.025055193901062\n",
            "EPOCH:   4\n",
            "batch 8 loss: 0.19477818394079804 acc: 96.875 % \n",
            "batch 16 loss: 0.1721770684234798 acc: 96.875 % \n",
            "batch 24 loss: 0.18207572540268302 acc: 95.3125 % \n",
            "batch 32 loss: 0.1633657687343657 acc: 96.875 % \n",
            "batch 40 loss: 0.16896796226501465 acc: 98.4375 % \n",
            "batch 48 loss: 0.11111387331038713 acc: 98.4375 % \n",
            "LOSS train 0.111 valid 4.195108675956726\n",
            "avg loss  4.195108675956726\n",
            "EPOCH:   5\n",
            "batch 8 loss: 0.1104801360052079 acc: 98.4375 % \n",
            "batch 16 loss: 0.0907959712203592 acc: 100.0 % \n",
            "batch 24 loss: 0.1307256135623902 acc: 98.4375 % \n",
            "batch 32 loss: 0.12319957232102752 acc: 100.0 % \n",
            "batch 40 loss: 0.21769397985190153 acc: 96.875 % \n",
            "batch 48 loss: 0.12133943568915129 acc: 98.4375 % \n",
            "LOSS train 0.121 valid 4.061521220207214\n",
            "avg loss  4.061521220207214\n",
            "EPOCH:   6\n",
            "batch 8 loss: 0.09709894703701138 acc: 96.875 % \n",
            "batch 16 loss: 0.10455873445607722 acc: 100.0 % \n",
            "batch 24 loss: 0.11096347868442535 acc: 96.875 % \n",
            "batch 32 loss: 0.10657312674447894 acc: 98.4375 % \n",
            "batch 40 loss: 0.06043655797839165 acc: 100.0 % \n",
            "batch 48 loss: 0.0740576502867043 acc: 100.0 % \n",
            "LOSS train 0.074 valid 4.157117700576782\n",
            "avg loss  4.157117700576782\n",
            "EPOCH:   7\n",
            "batch 8 loss: 0.03269156243186444 acc: 100.0 % \n",
            "batch 16 loss: 0.08736341423355043 acc: 100.0 % \n",
            "batch 24 loss: 0.06955340562853962 acc: 100.0 % \n",
            "batch 32 loss: 0.05311375530436635 acc: 100.0 % \n",
            "batch 40 loss: 0.11840736120939255 acc: 98.4375 % \n",
            "batch 48 loss: 0.09408018959220499 acc: 98.4375 % \n",
            "LOSS train 0.094 valid 4.347493958473206\n",
            "avg loss  4.347493958473206\n",
            "EPOCH:   8\n",
            "batch 8 loss: 0.08536886516958475 acc: 100.0 % \n",
            "batch 16 loss: 0.08240360766649246 acc: 100.0 % \n",
            "batch 24 loss: 0.08352145459502935 acc: 100.0 % \n",
            "batch 32 loss: 0.11443257471546531 acc: 98.4375 % \n",
            "batch 40 loss: 0.046142925741150975 acc: 100.0 % \n",
            "batch 48 loss: 0.12739574280567467 acc: 98.4375 % \n",
            "LOSS train 0.127 valid 4.204024887084961\n",
            "avg loss  4.204024887084961\n",
            "EPOCH:   9\n",
            "batch 8 loss: 0.055512236431241035 acc: 98.4375 % \n",
            "batch 16 loss: 0.08794517570640892 acc: 98.4375 % \n",
            "batch 24 loss: 0.062118727597408 acc: 98.4375 % \n",
            "batch 32 loss: 0.04552174895070493 acc: 100.0 % \n",
            "batch 40 loss: 0.03620554110966623 acc: 100.0 % \n",
            "batch 48 loss: 0.05169210664462298 acc: 100.0 % \n",
            "LOSS train 0.052 valid 4.224621701240539\n",
            "avg loss  4.224621701240539\n",
            "EPOCH:   10\n",
            "batch 8 loss: 0.03945713269058615 acc: 100.0 % \n",
            "batch 16 loss: 0.07378284749574959 acc: 98.4375 % \n",
            "batch 24 loss: 0.07806718186475337 acc: 98.4375 % \n",
            "batch 32 loss: 0.047838830621913075 acc: 100.0 % \n",
            "batch 40 loss: 0.055637789191678166 acc: 100.0 % \n",
            "batch 48 loss: 0.034497243352234364 acc: 100.0 % \n",
            "LOSS train 0.034 valid 3.8470435619354246\n",
            "avg loss  3.8470435619354246\n",
            "EPOCH:   11\n",
            "batch 8 loss: 0.029362341039814055 acc: 100.0 % \n",
            "batch 16 loss: 0.037849227199330926 acc: 100.0 % \n",
            "batch 24 loss: 0.020687144831754267 acc: 100.0 % \n",
            "batch 32 loss: 0.027851808816194534 acc: 100.0 % \n",
            "batch 40 loss: 0.10637406352907419 acc: 98.4375 % \n",
            "batch 48 loss: 0.027867622673511505 acc: 100.0 % \n",
            "LOSS train 0.028 valid 4.017125964164734\n",
            "avg loss  4.017125964164734\n",
            "EPOCH:   12\n",
            "batch 8 loss: 0.020108094497118145 acc: 100.0 % \n",
            "batch 16 loss: 0.03799145686207339 acc: 98.4375 % \n",
            "batch 24 loss: 0.034036163706332445 acc: 100.0 % \n",
            "batch 32 loss: 0.03130077931564301 acc: 100.0 % \n",
            "batch 40 loss: 0.026772595068905503 acc: 100.0 % \n",
            "batch 48 loss: 0.04270305542740971 acc: 98.4375 % \n",
            "LOSS train 0.043 valid 4.0903215408325195\n",
            "avg loss  4.0903215408325195\n",
            "EPOCH:   13\n",
            "batch 8 loss: 0.02050636732019484 acc: 100.0 % \n",
            "batch 16 loss: 0.026734522311016917 acc: 100.0 % \n",
            "batch 24 loss: 0.06034109939355403 acc: 98.4375 % \n",
            "batch 32 loss: 0.040097858698572963 acc: 100.0 % \n",
            "batch 40 loss: 0.03831723763141781 acc: 100.0 % \n",
            "batch 48 loss: 0.027314812527038157 acc: 100.0 % \n",
            "LOSS train 0.027 valid 3.900127387046814\n",
            "avg loss  3.900127387046814\n",
            "EPOCH:   14\n",
            "batch 8 loss: 0.025104862987063825 acc: 100.0 % \n",
            "batch 16 loss: 0.10827737650834024 acc: 98.4375 % \n",
            "batch 24 loss: 0.07709142507519573 acc: 98.4375 % \n",
            "batch 32 loss: 0.012511542532593012 acc: 100.0 % \n",
            "batch 40 loss: 0.030692384170833975 acc: 100.0 % \n",
            "batch 48 loss: 0.03363429754972458 acc: 100.0 % \n",
            "LOSS train 0.034 valid 4.01226499080658\n",
            "avg loss  4.01226499080658\n",
            "EPOCH:   15\n",
            "batch 8 loss: 0.05036998476134613 acc: 98.4375 % \n",
            "batch 16 loss: 0.026760507258586586 acc: 100.0 % \n",
            "batch 24 loss: 0.0679708615061827 acc: 98.4375 % \n",
            "batch 32 loss: 0.03110917122103274 acc: 100.0 % \n",
            "batch 40 loss: 0.02904890466015786 acc: 100.0 % \n",
            "batch 48 loss: 0.017900121805723757 acc: 100.0 % \n",
            "LOSS train 0.018 valid 3.8815866231918337\n",
            "avg loss  3.8815866231918337\n",
            "EPOCH:   16\n",
            "batch 8 loss: 0.03860769758466631 acc: 100.0 % \n",
            "batch 16 loss: 0.0593962874263525 acc: 98.4375 % \n",
            "batch 24 loss: 0.08309778734110296 acc: 98.4375 % \n",
            "batch 32 loss: 0.03098171594319865 acc: 100.0 % \n",
            "batch 40 loss: 0.03021888219518587 acc: 100.0 % \n",
            "batch 48 loss: 0.02895004046149552 acc: 100.0 % \n",
            "LOSS train 0.029 valid 4.076947951316834\n",
            "avg loss  4.076947951316834\n",
            "EPOCH:   17\n",
            "batch 8 loss: 0.024488998402375728 acc: 100.0 % \n",
            "batch 16 loss: 0.013215957442298532 acc: 100.0 % \n",
            "batch 24 loss: 0.02004530082922429 acc: 100.0 % \n",
            "batch 32 loss: 0.03606115747243166 acc: 100.0 % \n",
            "batch 40 loss: 0.04428629041649401 acc: 98.4375 % \n",
            "batch 48 loss: 0.044677930243778974 acc: 98.4375 % \n",
            "LOSS train 0.045 valid 4.056725382804871\n",
            "avg loss  4.056725382804871\n",
            "EPOCH:   18\n",
            "batch 8 loss: 0.01870633551152423 acc: 100.0 % \n",
            "batch 16 loss: 0.017187949211802334 acc: 100.0 % \n",
            "batch 24 loss: 0.01914809737354517 acc: 100.0 % \n",
            "batch 32 loss: 0.09256854647537693 acc: 96.875 % \n",
            "batch 40 loss: 0.01722116762539372 acc: 100.0 % \n",
            "batch 48 loss: 0.024935164372436702 acc: 100.0 % \n",
            "LOSS train 0.025 valid 4.233363127708435\n",
            "avg loss  4.233363127708435\n",
            "EPOCH:   19\n",
            "batch 8 loss: 0.03023965039756149 acc: 100.0 % \n",
            "batch 16 loss: 0.025181111239362508 acc: 100.0 % \n",
            "batch 24 loss: 0.08591728680767119 acc: 98.4375 % \n",
            "batch 32 loss: 0.016051837359555066 acc: 100.0 % \n",
            "batch 40 loss: 0.015549540286883712 acc: 100.0 % \n",
            "batch 48 loss: 0.03246105258585885 acc: 100.0 % \n",
            "LOSS train 0.032 valid 3.9706528425216674\n",
            "avg loss  3.9706528425216674\n",
            "EPOCH:   20\n",
            "batch 8 loss: 0.019813584396615624 acc: 100.0 % \n",
            "batch 16 loss: 0.011427705234382302 acc: 100.0 % \n",
            "batch 24 loss: 0.030993106309324503 acc: 100.0 % \n",
            "batch 32 loss: 0.0940578185254708 acc: 96.875 % \n",
            "batch 40 loss: 0.015007064561359584 acc: 100.0 % \n",
            "batch 48 loss: 0.018150442570913583 acc: 100.0 % \n",
            "LOSS train 0.018 valid 4.001408886909485\n",
            "avg loss  4.001408886909485\n",
            "EPOCH:   21\n",
            "batch 8 loss: 0.01399109698832035 acc: 100.0 % \n",
            "batch 16 loss: 0.025333344528917223 acc: 100.0 % \n",
            "batch 24 loss: 0.051407960476353765 acc: 98.4375 % \n",
            "batch 32 loss: 0.022113582759629935 acc: 100.0 % \n",
            "batch 40 loss: 0.02431540604447946 acc: 100.0 % \n",
            "batch 48 loss: 0.016376381856389344 acc: 100.0 % \n",
            "LOSS train 0.016 valid 4.05612280368805\n",
            "avg loss  4.05612280368805\n",
            "EPOCH:   22\n",
            "batch 8 loss: 0.057003400346729904 acc: 98.4375 % \n",
            "batch 16 loss: 0.052039904840057716 acc: 98.4375 % \n",
            "batch 24 loss: 0.012916211097035557 acc: 100.0 % \n",
            "batch 32 loss: 0.08047645119950175 acc: 96.875 % \n",
            "batch 40 loss: 0.011010857007931918 acc: 100.0 % \n",
            "batch 48 loss: 0.03326273988932371 acc: 100.0 % \n",
            "LOSS train 0.033 valid 4.204053163528442\n",
            "avg loss  4.204053163528442\n",
            "EPOCH:   23\n",
            "batch 8 loss: 0.03416384954471141 acc: 100.0 % \n",
            "batch 16 loss: 0.01426728698424995 acc: 100.0 % \n",
            "batch 24 loss: 0.010867493925616145 acc: 100.0 % \n",
            "batch 32 loss: 0.019885986461304128 acc: 100.0 % \n",
            "batch 40 loss: 0.039580532524269074 acc: 98.4375 % \n",
            "batch 48 loss: 0.01197730575222522 acc: 100.0 % \n",
            "LOSS train 0.012 valid 4.418204760551452\n",
            "avg loss  4.418204760551452\n",
            "EPOCH:   24\n",
            "batch 8 loss: 0.013630750414449722 acc: 100.0 % \n",
            "batch 16 loss: 0.01688380807172507 acc: 100.0 % \n",
            "batch 24 loss: 0.00915250537218526 acc: 100.0 % \n",
            "batch 32 loss: 0.032334926538169384 acc: 98.4375 % \n",
            "batch 40 loss: 0.03240273043047637 acc: 100.0 % \n",
            "batch 48 loss: 0.012547729682410136 acc: 100.0 % \n",
            "LOSS train 0.013 valid 4.0361741065979\n",
            "avg loss  4.0361741065979\n",
            "EPOCH:   25\n",
            "batch 8 loss: 0.015802656853338704 acc: 100.0 % \n",
            "batch 16 loss: 0.029998722166055813 acc: 98.4375 % \n",
            "batch 24 loss: 0.013395868299994618 acc: 100.0 % \n",
            "batch 32 loss: 0.02212467568460852 acc: 100.0 % \n",
            "batch 40 loss: 0.012223251920659095 acc: 100.0 % \n",
            "batch 48 loss: 0.016954487044131383 acc: 100.0 % \n",
            "LOSS train 0.017 valid 3.9827507734298706\n",
            "avg loss  3.9827507734298706\n",
            "EPOCH:   26\n",
            "batch 8 loss: 0.020423765206942335 acc: 100.0 % \n",
            "batch 16 loss: 0.01781005080556497 acc: 100.0 % \n",
            "batch 24 loss: 0.01130450691562146 acc: 100.0 % \n",
            "batch 32 loss: 0.013832728960551322 acc: 100.0 % \n",
            "batch 40 loss: 0.05105036331224255 acc: 98.4375 % \n",
            "batch 48 loss: 0.009371153311803937 acc: 100.0 % \n",
            "LOSS train 0.009 valid 4.170178985595703\n",
            "avg loss  4.170178985595703\n",
            "EPOCH:   27\n",
            "batch 8 loss: 0.0234302114113234 acc: 100.0 % \n",
            "batch 16 loss: 0.015702469972893596 acc: 100.0 % \n",
            "batch 24 loss: 0.02076227852376178 acc: 100.0 % \n",
            "batch 32 loss: 0.06483977328753099 acc: 98.4375 % \n",
            "batch 40 loss: 0.009246030182112008 acc: 100.0 % \n",
            "batch 48 loss: 0.01738754869438708 acc: 100.0 % \n",
            "LOSS train 0.017 valid 3.990635704994202\n",
            "avg loss  3.990635704994202\n",
            "EPOCH:   28\n",
            "batch 8 loss: 0.00977688969578594 acc: 100.0 % \n",
            "batch 16 loss: 0.006898540246766061 acc: 100.0 % \n",
            "batch 24 loss: 0.03798932337667793 acc: 98.4375 % \n",
            "batch 32 loss: 0.02422508696326986 acc: 100.0 % \n",
            "batch 40 loss: 0.019589112314861268 acc: 100.0 % \n",
            "batch 48 loss: 0.017853798402938992 acc: 100.0 % \n",
            "LOSS train 0.018 valid 3.991656041145325\n",
            "avg loss  3.991656041145325\n",
            "EPOCH:   29\n",
            "batch 8 loss: 0.02195258648134768 acc: 100.0 % \n",
            "batch 16 loss: 0.00929513096343726 acc: 100.0 % \n",
            "batch 24 loss: 0.022620652773184702 acc: 98.4375 % \n",
            "batch 32 loss: 0.0174783795082476 acc: 100.0 % \n",
            "batch 40 loss: 0.014917654218152165 acc: 100.0 % \n",
            "batch 48 loss: 0.01755240184138529 acc: 100.0 % \n",
            "LOSS train 0.018 valid 3.930123782157898\n",
            "avg loss  3.930123782157898\n"
          ]
        }
      ],
      "source": [
        "device = torch.device(\"cuda\" if torch.cuda.is_available() else \"cpu\")\n",
        "model = CnnModel(8).to(device) # move model to GPU\n",
        "criterion = nn.CrossEntropyLoss()\n",
        "optimizer = torch.optim.SGD(model.parameters(), lr=learning_rate, weight_decay = 0.005, momentum = 0.9)\n",
        "\n",
        "\n",
        "\n",
        "train_loss, train_acc, val_loss, val_acc, best_model = train_val(model)"
      ]
    },
    {
      "cell_type": "code",
      "source": [
        "max(val_acc)"
      ],
      "metadata": {
        "colab": {
          "base_uri": "https://localhost:8080/"
        },
        "id": "fsIpdbm4g3Ul",
        "outputId": "267b5245-b4f8-4f7d-fd6a-f14c40fb1a7a"
      },
      "execution_count": 79,
      "outputs": [
        {
          "output_type": "execute_result",
          "data": {
            "text/plain": [
              "37.5"
            ]
          },
          "metadata": {},
          "execution_count": 79
        }
      ]
    },
    {
      "cell_type": "code",
      "execution_count": 80,
      "metadata": {
        "colab": {
          "base_uri": "https://localhost:8080/",
          "height": 927
        },
        "id": "BB28DHjrip0A",
        "outputId": "17fa7406-2d7c-467f-fab4-b50c3f8a532b"
      },
      "outputs": [
        {
          "output_type": "display_data",
          "data": {
            "text/plain": [
              "<Figure size 640x480 with 1 Axes>"
            ],
            "image/png": "[encoded data removed]"
          },
          "metadata": {}
        },
        {
          "output_type": "display_data",
          "data": {
            "text/plain": [
              "<Figure size 640x480 with 1 Axes>"
            ],
            "image/png": "[encoded data removed]"
          },
          "metadata": {}
        }
      ],
      "source": [
        "#PLOT LOSS AND ACCURACY CHANGE OF TRAIN AND VALIDATION SET\n",
        "def plot(list1,list2,title,name,type):\n",
        "  plt.plot(range(1,num_epoch+1),list1,  label = \"Train\")\n",
        "  plt.plot(range(1,num_epoch+1),list2, label = \"Validation\")\n",
        "  plt.xlabel(\"Epoch\")\n",
        "  plt.ylabel(type)\n",
        "  plt.title(title)\n",
        "  plt.legend()\n",
        "  filename = f\"{name}.png\"\n",
        "  plt.savefig(filename)\n",
        "  plt.show()\n",
        "\n",
        "plot(train_acc,val_acc,\"Accuracy change with Batch = 8\",\"Accuracy_b_8\",\"Accuracy\")\n",
        "plot(train_loss,val_loss,\"Loss change with Batch = 8\",\"Loss_b_8\",\"Loss\")"
      ]
    },
    {
      "cell_type": "markdown",
      "metadata": {
        "id": "UcpAGij4t-CX"
      },
      "source": [
        "###TEST USING BEST MODEL"
      ]
    },
    {
      "cell_type": "code",
      "execution_count": 81,
      "metadata": {
        "colab": {
          "base_uri": "https://localhost:8080/"
        },
        "id": "iPRxHH102Vh2",
        "outputId": "5e3b06b3-bd0e-45fd-d8a9-e54dab284147"
      },
      "outputs": [
        {
          "output_type": "stream",
          "name": "stdout",
          "text": [
            "Validation set: Average loss: 2.161, Accuracy: 24/80 (30.0%)\n",
            "\n"
          ]
        }
      ],
      "source": [
        "def test(model, device, test_loader):\n",
        "    # Switch the model to evaluation mode (so we don't backpropagate or drop)\n",
        "    model.eval()\n",
        "    test_loss = 0\n",
        "    correct = 0\n",
        "    predicted_labels = []\n",
        "    true_labels = []\n",
        "    with torch.no_grad():\n",
        "        batch_count = 0\n",
        "        for data, target in test_loader:\n",
        "            batch_count += 1\n",
        "            data, target = data.to(device), target.to(device)\n",
        "            # Get the predicted classes for this batch\n",
        "            output = model(data)\n",
        "\n",
        "            # Calculate the loss for this batch\n",
        "            test_loss += criterion(output, target).item()\n",
        "\n",
        "\n",
        "            # Calculate the accuracy for this batch\n",
        "            _, predicted = torch.max(output.data, 1)\n",
        "            correct += torch.sum(target==predicted).item()\n",
        "            predicted_labels.extend(predicted.tolist())\n",
        "            true_labels.extend(target.tolist())\n",
        "\n",
        "    # Calculate the average loss and total accuracy for this epoch\n",
        "    avg_loss = test_loss / batch_count\n",
        "    print('Validation set: Average loss: {:.3f}, Accuracy: {}/{} ({:.1f}%)\\n'.format(\n",
        "        avg_loss, correct, len(test_loader.dataset),\n",
        "        100. * correct / len(test_loader.dataset)))\n",
        "    # return average loss for the epoch\n",
        "\n",
        "    return avg_loss, true_labels, predicted_labels\n",
        "\n",
        "avg_loss, true_labels, predicted_labels = test(best_model, device, testloader)"
      ]
    },
    {
      "cell_type": "code",
      "execution_count": 45,
      "metadata": {
        "id": "RIwEEX3H_bUj"
      },
      "outputs": [],
      "source": [
        "# Calculate the confusion matrix\n",
        "from sklearn.metrics import confusion_matrix\n",
        "import pandas as pd\n",
        "import matplotlib.pyplot as plt\n",
        "import numpy as np\n",
        "import seaborn as sns\n",
        "\n",
        "\n",
        "\n",
        "def confusion(true_labels, predicted_labels):\n",
        "  cm = confusion_matrix(true_labels, predicted_labels)\n",
        "  cm_df = pd.DataFrame(cm,\n",
        "                     index = classes,\n",
        "                     columns = classes)\n",
        "  plt.figure(figsize=(5,4))\n",
        "\n",
        "  sns.heatmap(cm_df, annot=True)\n",
        "  plt.title('Confusion Matrix')\n",
        "  plt.ylabel('Actual Values')\n",
        "  plt.xlabel('Predicted Values')\n",
        "  plt.show()\n"
      ]
    },
    {
      "cell_type": "code",
      "execution_count": 46,
      "metadata": {
        "colab": {
          "base_uri": "https://localhost:8080/",
          "height": 525
        },
        "id": "NxG55b-8y0wv",
        "outputId": "6eb68206-7089-4a3b-887a-dd71da1a23d9"
      },
      "outputs": [
        {
          "output_type": "display_data",
          "data": {
            "text/plain": [
              "<Figure size 500x400 with 2 Axes>"
            ],
            "image/png": "[encoded data removed]"
          },
          "metadata": {}
        }
      ],
      "source": [
        "confusion(true_labels, predicted_labels)"
      ]
    },
    {
      "cell_type": "markdown",
      "metadata": {
        "id": "uw9unKEiobE4"
      },
      "source": [
        "### ADD DROPOUT LAYER"
      ]
    },
    {
      "cell_type": "code",
      "execution_count": 95,
      "metadata": {
        "colab": {
          "base_uri": "https://localhost:8080/"
        },
        "id": "qzfZNPx_ijuh",
        "outputId": "a87a3504-05f7-40f1-b31d-2aa871ae8e4e"
      },
      "outputs": [
        {
          "output_type": "stream",
          "name": "stdout",
          "text": [
            "EPOCH:   0\n",
            "batch 8 loss: 2.096395269036293 acc: 14.0625 % \n",
            "batch 16 loss: 2.1711922585964203 acc: 4.6875 % \n",
            "batch 24 loss: 2.252603769302368 acc: 7.8125 % \n",
            "batch 32 loss: 2.1121387779712677 acc: 15.625 % \n",
            "batch 40 loss: 2.1697657108306885 acc: 12.5 % \n",
            "batch 48 loss: 2.098430648446083 acc: 10.9375 % \n",
            "LOSS train 2.098 valid 4.1443363428115845\n",
            "avg loss  4.1443363428115845\n",
            "EPOCH:   1\n",
            "batch 8 loss: 1.912909358739853 acc: 23.4375 % \n",
            "batch 16 loss: 1.9645055830478668 acc: 20.3125 % \n",
            "batch 24 loss: 1.9527953565120697 acc: 28.125 % \n",
            "batch 32 loss: 1.919361636042595 acc: 23.4375 % \n",
            "batch 40 loss: 1.9665183424949646 acc: 26.5625 % \n",
            "batch 48 loss: 1.9077113270759583 acc: 31.25 % \n",
            "LOSS train 1.908 valid 4.050620532035827\n",
            "avg loss  4.050620532035827\n",
            "EPOCH:   2\n",
            "batch 8 loss: 1.7542261183261871 acc: 50.0 % \n",
            "batch 16 loss: 1.7587640583515167 acc: 40.625 % \n",
            "batch 24 loss: 1.756795048713684 acc: 50.0 % \n",
            "batch 32 loss: 1.7863181382417679 acc: 43.75 % \n",
            "batch 40 loss: 1.8799621164798737 acc: 29.6875 % \n",
            "batch 48 loss: 1.794044941663742 acc: 42.1875 % \n",
            "LOSS train 1.794 valid 4.083675527572632\n",
            "avg loss  4.083675527572632\n",
            "EPOCH:   3\n",
            "batch 8 loss: 1.6485133916139603 acc: 53.125 % \n",
            "batch 16 loss: 1.6109042465686798 acc: 60.9375 % \n",
            "batch 24 loss: 1.6217790991067886 acc: 56.25 % \n",
            "batch 32 loss: 1.6214534491300583 acc: 56.25 % \n",
            "batch 40 loss: 1.7010387182235718 acc: 48.4375 % \n",
            "batch 48 loss: 1.6470529437065125 acc: 46.875 % \n",
            "LOSS train 1.647 valid 4.023312759399414\n",
            "avg loss  4.023312759399414\n",
            "EPOCH:   4\n",
            "batch 8 loss: 1.5171702802181244 acc: 68.75 % \n",
            "batch 16 loss: 1.4547038972377777 acc: 75.0 % \n",
            "batch 24 loss: 1.475709468126297 acc: 70.3125 % \n",
            "batch 32 loss: 1.4795178771018982 acc: 67.1875 % \n",
            "batch 40 loss: 1.6878700405359268 acc: 42.1875 % \n",
            "batch 48 loss: 1.53437177836895 acc: 64.0625 % \n",
            "LOSS train 1.534 valid 4.012024092674255\n",
            "avg loss  4.012024092674255\n",
            "EPOCH:   5\n",
            "batch 8 loss: 1.3990307301282883 acc: 78.125 % \n",
            "batch 16 loss: 1.4235452264547348 acc: 70.3125 % \n",
            "batch 24 loss: 1.3966670334339142 acc: 75.0 % \n",
            "batch 32 loss: 1.3907985538244247 acc: 81.25 % \n",
            "batch 40 loss: 1.389041155576706 acc: 78.125 % \n",
            "batch 48 loss: 1.4021416008472443 acc: 79.6875 % \n",
            "LOSS train 1.402 valid 3.923790144920349\n",
            "avg loss  3.923790144920349\n",
            "EPOCH:   6\n",
            "batch 8 loss: 1.3049285560846329 acc: 79.6875 % \n",
            "batch 16 loss: 1.3669800758361816 acc: 78.125 % \n",
            "batch 24 loss: 1.2879112213850021 acc: 82.8125 % \n",
            "batch 32 loss: 1.4391646683216095 acc: 68.75 % \n",
            "batch 40 loss: 1.291800856590271 acc: 85.9375 % \n",
            "batch 48 loss: 1.3905040174722672 acc: 78.125 % \n",
            "LOSS train 1.391 valid 3.921172046661377\n",
            "avg loss  3.921172046661377\n",
            "EPOCH:   7\n",
            "batch 8 loss: 1.2754990309476852 acc: 89.0625 % \n",
            "batch 16 loss: 1.3192402124404907 acc: 76.5625 % \n",
            "batch 24 loss: 1.251475602388382 acc: 85.9375 % \n",
            "batch 32 loss: 1.158191666007042 acc: 89.0625 % \n",
            "batch 40 loss: 1.2432973682880402 acc: 82.8125 % \n",
            "batch 48 loss: 1.280246376991272 acc: 84.375 % \n",
            "LOSS train 1.280 valid 3.9113975048065184\n",
            "avg loss  3.9113975048065184\n",
            "EPOCH:   8\n",
            "batch 8 loss: 1.2064855843782425 acc: 87.5 % \n",
            "batch 16 loss: 1.1294642835855484 acc: 92.1875 % \n",
            "batch 24 loss: 1.0787078067660332 acc: 95.3125 % \n",
            "batch 32 loss: 1.266589030623436 acc: 84.375 % \n",
            "batch 40 loss: 1.2114457413554192 acc: 85.9375 % \n",
            "batch 48 loss: 1.2242742478847504 acc: 81.25 % \n",
            "LOSS train 1.224 valid 3.8735388040542604\n",
            "avg loss  3.8735388040542604\n",
            "EPOCH:   9\n",
            "batch 8 loss: 1.135465830564499 acc: 90.625 % \n",
            "batch 16 loss: 1.123142197728157 acc: 96.875 % \n",
            "batch 24 loss: 1.0979079902172089 acc: 92.1875 % \n",
            "batch 32 loss: 1.1546986401081085 acc: 81.25 % \n",
            "batch 40 loss: 1.1401086449623108 acc: 85.9375 % \n",
            "batch 48 loss: 1.1682429313659668 acc: 82.8125 % \n",
            "LOSS train 1.168 valid 3.855629801750183\n",
            "avg loss  3.855629801750183\n",
            "EPOCH:   10\n",
            "batch 8 loss: 0.9978299960494041 acc: 90.625 % \n",
            "batch 16 loss: 1.078241989016533 acc: 93.75 % \n",
            "batch 24 loss: 1.0784069001674652 acc: 96.875 % \n",
            "batch 32 loss: 1.0744452625513077 acc: 95.3125 % \n",
            "batch 40 loss: 0.988995224237442 acc: 92.1875 % \n",
            "batch 48 loss: 1.1844538152217865 acc: 87.5 % \n",
            "LOSS train 1.184 valid 3.872587561607361\n",
            "avg loss  3.872587561607361\n",
            "EPOCH:   11\n",
            "batch 8 loss: 0.9818021059036255 acc: 95.3125 % \n",
            "batch 16 loss: 1.0369699448347092 acc: 92.1875 % \n",
            "batch 24 loss: 1.0394350811839104 acc: 96.875 % \n",
            "batch 32 loss: 0.9767172336578369 acc: 96.875 % \n",
            "batch 40 loss: 0.99161097407341 acc: 96.875 % \n",
            "batch 48 loss: 0.9898631796240807 acc: 93.75 % \n",
            "LOSS train 0.990 valid 3.859903597831726\n",
            "avg loss  3.859903597831726\n",
            "EPOCH:   12\n",
            "batch 8 loss: 0.8814393430948257 acc: 95.3125 % \n",
            "batch 16 loss: 1.0951067209243774 acc: 87.5 % \n",
            "batch 24 loss: 0.9207040593028069 acc: 90.625 % \n",
            "batch 32 loss: 1.0307879000902176 acc: 90.625 % \n",
            "batch 40 loss: 1.0017176046967506 acc: 92.1875 % \n",
            "batch 48 loss: 0.9606361016631126 acc: 89.0625 % \n",
            "LOSS train 0.961 valid 3.823282337188721\n",
            "avg loss  3.823282337188721\n",
            "EPOCH:   13\n",
            "batch 8 loss: 0.8505156189203262 acc: 90.625 % \n",
            "batch 16 loss: 0.9076359495520592 acc: 93.75 % \n",
            "batch 24 loss: 0.9339031726121902 acc: 92.1875 % \n",
            "batch 32 loss: 0.8704493194818497 acc: 93.75 % \n",
            "batch 40 loss: 0.8999994844198227 acc: 93.75 % \n",
            "batch 48 loss: 0.9937223717570305 acc: 95.3125 % \n",
            "LOSS train 0.994 valid 3.789669919013977\n",
            "avg loss  3.789669919013977\n",
            "EPOCH:   14\n",
            "batch 8 loss: 0.8606056496500969 acc: 96.875 % \n",
            "batch 16 loss: 0.922078937292099 acc: 98.4375 % \n",
            "batch 24 loss: 0.8959284350275993 acc: 95.3125 % \n",
            "batch 32 loss: 0.8497859537601471 acc: 95.3125 % \n",
            "batch 40 loss: 0.8791350051760674 acc: 95.3125 % \n",
            "batch 48 loss: 0.8419875130057335 acc: 98.4375 % \n",
            "LOSS train 0.842 valid 3.77685546875\n",
            "avg loss  3.77685546875\n",
            "EPOCH:   15\n",
            "batch 8 loss: 0.8304892927408218 acc: 96.875 % \n",
            "batch 16 loss: 0.8303913399577141 acc: 96.875 % \n",
            "batch 24 loss: 0.8351151123642921 acc: 93.75 % \n",
            "batch 32 loss: 0.9250659272074699 acc: 93.75 % \n",
            "batch 40 loss: 0.8732063099741936 acc: 95.3125 % \n",
            "batch 48 loss: 0.8115842342376709 acc: 98.4375 % \n",
            "LOSS train 0.812 valid 3.7565893173217773\n",
            "avg loss  3.7565893173217773\n",
            "EPOCH:   16\n",
            "batch 8 loss: 0.879532590508461 acc: 93.75 % \n",
            "batch 16 loss: 0.8147511929273605 acc: 98.4375 % \n",
            "batch 24 loss: 0.8871560320258141 acc: 92.1875 % \n",
            "batch 32 loss: 0.7610954791307449 acc: 100.0 % \n",
            "batch 40 loss: 0.7873474508523941 acc: 95.3125 % \n",
            "batch 48 loss: 0.8345859870314598 acc: 96.875 % \n",
            "LOSS train 0.835 valid 3.7951020002365112\n",
            "avg loss  3.7951020002365112\n",
            "EPOCH:   17\n",
            "batch 8 loss: 0.7830835655331612 acc: 96.875 % \n",
            "batch 16 loss: 0.727468378841877 acc: 98.4375 % \n",
            "batch 24 loss: 0.7513545155525208 acc: 98.4375 % \n",
            "batch 32 loss: 0.8415293991565704 acc: 92.1875 % \n",
            "batch 40 loss: 0.8762138113379478 acc: 90.625 % \n",
            "batch 48 loss: 0.7063406258821487 acc: 98.4375 % \n",
            "LOSS train 0.706 valid 3.7149857759475706\n",
            "avg loss  3.7149857759475706\n",
            "EPOCH:   18\n",
            "batch 8 loss: 0.7280400469899178 acc: 96.875 % \n",
            "batch 16 loss: 0.7390856668353081 acc: 98.4375 % \n",
            "batch 24 loss: 0.7501357272267342 acc: 95.3125 % \n",
            "batch 32 loss: 0.7078112885355949 acc: 100.0 % \n",
            "batch 40 loss: 0.7600082531571388 acc: 96.875 % \n",
            "batch 48 loss: 0.8488229513168335 acc: 93.75 % \n",
            "LOSS train 0.849 valid 3.75032696723938\n",
            "avg loss  3.75032696723938\n",
            "EPOCH:   19\n",
            "batch 8 loss: 0.6601415798068047 acc: 98.4375 % \n",
            "batch 16 loss: 0.7759393453598022 acc: 95.3125 % \n",
            "batch 24 loss: 0.6852177754044533 acc: 98.4375 % \n",
            "batch 32 loss: 0.7150566279888153 acc: 95.3125 % \n",
            "batch 40 loss: 0.6759810224175453 acc: 100.0 % \n",
            "batch 48 loss: 0.7436929866671562 acc: 98.4375 % \n",
            "LOSS train 0.744 valid 3.7352749824523928\n",
            "avg loss  3.7352749824523928\n",
            "EPOCH:   20\n",
            "batch 8 loss: 0.6914789974689484 acc: 100.0 % \n",
            "batch 16 loss: 0.6392926201224327 acc: 100.0 % \n",
            "batch 24 loss: 0.7418341636657715 acc: 95.3125 % \n",
            "batch 32 loss: 0.7253056168556213 acc: 96.875 % \n",
            "batch 40 loss: 0.664914682507515 acc: 96.875 % \n",
            "batch 48 loss: 0.795384481549263 acc: 95.3125 % \n",
            "LOSS train 0.795 valid 3.7321677207946777\n",
            "avg loss  3.7321677207946777\n",
            "EPOCH:   21\n",
            "batch 8 loss: 0.6265245862305164 acc: 98.4375 % \n",
            "batch 16 loss: 0.6677751019597054 acc: 98.4375 % \n",
            "batch 24 loss: 0.6586563736200333 acc: 100.0 % \n",
            "batch 32 loss: 0.6921706423163414 acc: 96.875 % \n",
            "batch 40 loss: 0.6446410641074181 acc: 95.3125 % \n",
            "batch 48 loss: 0.7138326540589333 acc: 96.875 % \n",
            "LOSS train 0.714 valid 3.742431402206421\n",
            "avg loss  3.742431402206421\n",
            "EPOCH:   22\n",
            "batch 8 loss: 0.672856766730547 acc: 95.3125 % \n",
            "batch 16 loss: 0.6729142293334007 acc: 98.4375 % \n",
            "batch 24 loss: 0.652876440435648 acc: 98.4375 % \n",
            "batch 32 loss: 0.63948118314147 acc: 95.3125 % \n",
            "batch 40 loss: 0.6059799119830132 acc: 100.0 % \n",
            "batch 48 loss: 0.6718941852450371 acc: 98.4375 % \n",
            "LOSS train 0.672 valid 3.7183197736740112\n",
            "avg loss  3.7183197736740112\n",
            "EPOCH:   23\n",
            "batch 8 loss: 0.593711506575346 acc: 98.4375 % \n",
            "batch 16 loss: 0.56625547260046 acc: 98.4375 % \n",
            "batch 24 loss: 0.577065147459507 acc: 100.0 % \n",
            "batch 32 loss: 0.7233813032507896 acc: 95.3125 % \n",
            "batch 40 loss: 0.604484885931015 acc: 100.0 % \n",
            "batch 48 loss: 0.617286279797554 acc: 98.4375 % \n",
            "LOSS train 0.617 valid 3.7075003147125245\n",
            "avg loss  3.7075003147125245\n",
            "EPOCH:   24\n",
            "batch 8 loss: 0.5645449981093407 acc: 98.4375 % \n",
            "batch 16 loss: 0.6378443911671638 acc: 96.875 % \n",
            "batch 24 loss: 0.5993155315518379 acc: 100.0 % \n",
            "batch 32 loss: 0.7294717542827129 acc: 93.75 % \n",
            "batch 40 loss: 0.5741098411381245 acc: 98.4375 % \n",
            "batch 48 loss: 0.60588813200593 acc: 100.0 % \n",
            "LOSS train 0.606 valid 3.6970409154891968\n",
            "avg loss  3.6970409154891968\n",
            "EPOCH:   25\n",
            "batch 8 loss: 0.6439331248402596 acc: 96.875 % \n",
            "batch 16 loss: 0.5367663241922855 acc: 100.0 % \n",
            "batch 24 loss: 0.623803373426199 acc: 96.875 % \n",
            "batch 32 loss: 0.5702914707362652 acc: 100.0 % \n",
            "batch 40 loss: 0.573534719645977 acc: 98.4375 % \n",
            "batch 48 loss: 0.5770804584026337 acc: 96.875 % \n",
            "LOSS train 0.577 valid 3.6837168455123903\n",
            "avg loss  3.6837168455123903\n",
            "EPOCH:   26\n",
            "batch 8 loss: 0.5689340867102146 acc: 100.0 % \n",
            "batch 16 loss: 0.6008945778012276 acc: 96.875 % \n",
            "batch 24 loss: 0.5472016595304012 acc: 100.0 % \n",
            "batch 32 loss: 0.5729119405150414 acc: 96.875 % \n",
            "batch 40 loss: 0.6539151519536972 acc: 96.875 % \n",
            "batch 48 loss: 0.5658879764378071 acc: 96.875 % \n",
            "LOSS train 0.566 valid 3.6957131147384645\n",
            "avg loss  3.6957131147384645\n",
            "EPOCH:   27\n",
            "batch 8 loss: 0.5983867160975933 acc: 93.75 % \n",
            "batch 16 loss: 0.5209655985236168 acc: 100.0 % \n",
            "batch 24 loss: 0.5972009785473347 acc: 96.875 % \n",
            "batch 32 loss: 0.5161140114068985 acc: 100.0 % \n",
            "batch 40 loss: 0.5428688824176788 acc: 100.0 % \n",
            "batch 48 loss: 0.5713261365890503 acc: 100.0 % \n",
            "LOSS train 0.571 valid 3.677350974082947\n",
            "avg loss  3.677350974082947\n",
            "EPOCH:   28\n",
            "batch 8 loss: 0.5462431125342846 acc: 96.875 % \n",
            "batch 16 loss: 0.5398738272488117 acc: 100.0 % \n",
            "batch 24 loss: 0.5601999312639236 acc: 98.4375 % \n",
            "batch 32 loss: 0.6159227043390274 acc: 98.4375 % \n",
            "batch 40 loss: 0.5455585457384586 acc: 96.875 % \n",
            "batch 48 loss: 0.5534227751195431 acc: 96.875 % \n",
            "LOSS train 0.553 valid 3.6800499677658083\n",
            "avg loss  3.6800499677658083\n",
            "EPOCH:   29\n",
            "batch 8 loss: 0.5531150624155998 acc: 98.4375 % \n",
            "batch 16 loss: 0.5406953655183315 acc: 100.0 % \n",
            "batch 24 loss: 0.5086355842649937 acc: 100.0 % \n",
            "batch 32 loss: 0.5711433254182339 acc: 95.3125 % \n",
            "batch 40 loss: 0.4782343655824661 acc: 100.0 % \n",
            "batch 48 loss: 0.5407853275537491 acc: 98.4375 % \n",
            "LOSS train 0.541 valid 3.688217306137085\n",
            "avg loss  3.688217306137085\n"
          ]
        }
      ],
      "source": [
        "\n",
        "best_model.fc = nn.Sequential(\n",
        "    nn.Dropout(0.1),\n",
        "    nn.Flatten(),\n",
        "    nn.Linear(128 * (img_size//2) * (img_size//2), num_classes)\n",
        ")\n",
        "\n",
        "train_drop_loss, train_drop_acc, val_drop_loss, val_drop_acc, best_drop_model = train_val(best_model)"
      ]
    },
    {
      "cell_type": "code",
      "source": [
        "max(val_drop_acc)"
      ],
      "metadata": {
        "colab": {
          "base_uri": "https://localhost:8080/"
        },
        "id": "mYHkQ-awk-Qp",
        "outputId": "0b5c0ee7-bbdd-4d97-d37a-43065b66da98"
      },
      "execution_count": 97,
      "outputs": [
        {
          "output_type": "execute_result",
          "data": {
            "text/plain": [
              "32.5"
            ]
          },
          "metadata": {},
          "execution_count": 97
        }
      ]
    },
    {
      "cell_type": "markdown",
      "metadata": {
        "id": "0EEfMkq8uZsD"
      },
      "source": [
        "###TEST WITH DROPOUT LAYER"
      ]
    },
    {
      "cell_type": "code",
      "execution_count": 99,
      "metadata": {
        "id": "3mHb_YFvMDjw",
        "colab": {
          "base_uri": "https://localhost:8080/"
        },
        "outputId": "c224d486-d7f2-49e6-ff67-843c8a748822"
      },
      "outputs": [
        {
          "output_type": "stream",
          "name": "stdout",
          "text": [
            "Validation set: Average loss: 1.876, Accuracy: 22/80 (27.5%)\n",
            "\n"
          ]
        }
      ],
      "source": [
        "avg_drop_loss, true_drop_labels, predicted_drop_labels = test(best_drop_model, device, testloader)\n"
      ]
    },
    {
      "cell_type": "code",
      "source": [
        "confusion(true_labels, predicted_labels)"
      ],
      "metadata": {
        "colab": {
          "base_uri": "https://localhost:8080/",
          "height": 525
        },
        "id": "UmY0sprka_-7",
        "outputId": "52884762-ae2f-45d3-c89a-a7141fadf469"
      },
      "execution_count": 88,
      "outputs": [
        {
          "output_type": "display_data",
          "data": {
            "text/plain": [
              "<Figure size 500x400 with 2 Axes>"
            ],
            "image/png": "[encoded data removed]"
          },
          "metadata": {}
        }
      ]
    }
  ],
  "metadata": {
    "accelerator": "GPU",
    "colab": {
      "provenance": [],
      "toc_visible": true
    },
    "kernelspec": {
      "display_name": "Python 3",
      "name": "python3"
    },
    "language_info": {
      "name": "python"
    }
  },
  "nbformat": 4,
  "nbformat_minor": 0
}
