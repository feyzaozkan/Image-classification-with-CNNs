{
  "nbformat": 4,
  "nbformat_minor": 0,
  "metadata": {
    "colab": {
      "provenance": [],
      "gpuType": "T4",
      "toc_visible": true
    },
    "kernelspec": {
      "name": "python3",
      "display_name": "Python 3"
    },
    "language_info": {
      "name": "python"
    },
    "accelerator": "GPU",
    "gpuClass": "standard"
  },
  "cells": [
    {
      "cell_type": "markdown",
      "source": [
        "##IMPLEMENTATION OF CNN MODEL WITH RESIDUAL CONNECTION(S)"
      ],
      "metadata": {
        "id": "kkkiYW3Ht3H2"
      }
    },
    {
      "cell_type": "code",
      "execution_count": null,
      "metadata": {
        "id": "dcA6Ty3cRj3f"
      },
      "outputs": [],
      "source": [
        "#import necessary modules\n",
        "import os\n",
        "import random\n",
        "import shutil\n",
        "import torch\n",
        "import torch.nn as nn\n",
        "import torchvision\n",
        "import torchvision.transforms as transforms\n",
        "from torchvision.datasets import ImageFolder\n",
        "import torchvision.datasets as datasets\n",
        "import matplotlib.pyplot as plt\n",
        "import torchvision.models as models\n",
        "from torch.autograd import Variable\n",
        "from torch.optim import Adam\n",
        "from torch.optim.lr_scheduler import StepLR\n",
        "\n"
      ]
    },
    {
      "cell_type": "markdown",
      "source": [
        "###PUBLIC VARIABLES"
      ],
      "metadata": {
        "id": "Gs6lmMWMt1Nr"
      }
    },
    {
      "cell_type": "code",
      "source": [
        "#number of images that will be used from each class\n",
        "num_images_per_class = 70\n",
        "#number of train images that will be used from each class\n",
        "num_train_per_class = 50\n",
        "#number of validation images that will be used from each class\n",
        "num_val_per_class = 10\n",
        "\n",
        "img_size = 64\n",
        "batch_size = 8\n",
        "num_classes = 8\n",
        "learning_rate = 0.0001\n",
        "num_epoch = 30"
      ],
      "metadata": {
        "id": "LhTPyQbCt0xE"
      },
      "execution_count": null,
      "outputs": []
    },
    {
      "cell_type": "markdown",
      "source": [
        "###Load Data"
      ],
      "metadata": {
        "id": "Ck2PZk6ksCir"
      }
    },
    {
      "cell_type": "code",
      "source": [
        "# Mount Google Drive\n",
        "from google.colab import drive\n",
        "drive.mount('/content/drive')\n",
        "\n",
        "#the dataset path in  Google Drive\n",
        "root_dir = \"/content/drive/MyDrive/Micro_Organism\""
      ],
      "metadata": {
        "colab": {
          "base_uri": "https://localhost:8080/"
        },
        "id": "lD1xFdr4he94",
        "outputId": "ff887258-f6d1-4135-ece9-61f27e413c89"
      },
      "execution_count": null,
      "outputs": [
        {
          "output_type": "stream",
          "name": "stdout",
          "text": [
            "Mounted at /content/drive\n"
          ]
        }
      ]
    },
    {
      "cell_type": "code",
      "source": [
        "#create directories for train, validation, test data\n",
        "os.makedirs(\"train\")\n",
        "os.makedirs(\"validation\")\n",
        "os.makedirs(\"test\")"
      ],
      "metadata": {
        "id": "VdKr6e7qbwfv"
      },
      "execution_count": null,
      "outputs": []
    },
    {
      "cell_type": "code",
      "source": [
        "# Get the sorted list of classes (subdirectories) in the root directory\n",
        "classes = sorted(os.listdir(root_dir))\n",
        "# Iterate over each class\n",
        "for dir_name in classes:\n",
        "    #get path to images\n",
        "    images_dir = os.path.join(root_dir, dir_name)\n",
        "    #get images names\n",
        "    filenames = os.listdir(images_dir)\n",
        "    random.seed(42)\n",
        "    #shuffle images\n",
        "    random.shuffle(filenames)\n",
        "\n",
        "    # Create paths for train, validation, and test sets\n",
        "    train_path = os.path.join('train', dir_name)\n",
        "    val_path = os.path.join('validation', dir_name)\n",
        "    test_path = os.path.join('test', dir_name)\n",
        "\n",
        "    if not os.path.exists(train_path):\n",
        "        os.makedirs(train_path)\n",
        "        os.makedirs(val_path)\n",
        "        os.makedirs(test_path)\n",
        "\n",
        "    # Copy images to the respective train, validation, and test directories\n",
        "    for i in range(num_images_per_class):\n",
        "        filename = filenames[i]\n",
        "        filepath = os.path.join(images_dir, filename)\n",
        "        if (i < num_train_per_class):\n",
        "          shutil.copy(filepath, train_path)\n",
        "        elif ( i < num_train_per_class + num_val_per_class):\n",
        "          shutil.copy(filepath, val_path)\n",
        "        else:\n",
        "          shutil.copy(filepath, test_path)\n",
        "\n"
      ],
      "metadata": {
        "id": "wSXTStXFZifr"
      },
      "execution_count": null,
      "outputs": []
    },
    {
      "cell_type": "code",
      "source": [
        "# Define  transformations to be applied to the images\n",
        "all_transforms = transforms.Compose([transforms.Resize((img_size ,img_size )),\n",
        "                                     transforms.ToTensor(),\n",
        "                                     transforms.Normalize((0.5, 0.5, 0.5), (0.5, 0.5, 0.5))\n",
        "                                     ])\n",
        "\n",
        "# Create the train,validation,test set with the given transformations\n",
        "trainset = datasets.ImageFolder(root=\"train\", transform=all_transforms)\n",
        "valset = datasets.ImageFolder(root=\"validation\", transform=all_transforms)\n",
        "testset = datasets.ImageFolder(root=\"test\", transform=all_transforms)"
      ],
      "metadata": {
        "id": "a31qokghfxh4"
      },
      "execution_count": null,
      "outputs": []
    },
    {
      "cell_type": "code",
      "source": [
        "# Create data loaders for the train, validation, and test sets\n",
        "trainloader = torch.utils.data.DataLoader(trainset, batch_size=batch_size,\n",
        "                                          shuffle=True, num_workers=2)\n",
        "\n",
        "validationloader = torch.utils.data.DataLoader(valset, batch_size=batch_size,\n",
        "                                          shuffle=True, num_workers=2)\n",
        "\n",
        "testloader = torch.utils.data.DataLoader(testset, batch_size=batch_size,\n",
        "                                          shuffle=True, num_workers=2)"
      ],
      "metadata": {
        "id": "8M7URswNjm51"
      },
      "execution_count": null,
      "outputs": []
    },
    {
      "cell_type": "markdown",
      "source": [
        "###CNN Model\n"
      ],
      "metadata": {
        "id": "JrK5L3a5sJ7c"
      }
    },
    {
      "cell_type": "code",
      "source": [
        "import torch.nn.functional as F\n",
        "class CnnModel(nn.Module):\n",
        "    def __init__(self,num_classes):\n",
        "        super( CnnModel, self).__init__()\n",
        "\n",
        "        self.layer1 = nn.Sequential(\n",
        "            nn.Conv2d(3, 16, kernel_size=3, stride=1, padding=1),\n",
        "            nn.BatchNorm2d(16),\n",
        "            nn.ReLU(),\n",
        "            nn.MaxPool2d(kernel_size = 2, stride = 2))    #output 16 x 32 x 32\n",
        "\n",
        "        self.layer2 = nn.Sequential(\n",
        "            nn.Conv2d(16, 32, kernel_size=3, stride=1, padding=1),\n",
        "            nn.BatchNorm2d(32),\n",
        "            nn.ReLU())                                    #output 32 x 32 x 32\n",
        "\n",
        "        self.layer3 = nn.Sequential(\n",
        "            nn.Conv2d(32, 64, kernel_size=3, stride=1, padding=1),\n",
        "            nn.BatchNorm2d(64),\n",
        "            nn.ReLU())                                    #output 64 x 32 x 32\n",
        "\n",
        "        self.layer4 = nn.Sequential(\n",
        "            nn.Conv2d(64, 64, kernel_size=3, stride=1, padding=1),\n",
        "            nn.BatchNorm2d(64),\n",
        "            nn.ReLU())                                    #output 64 x 32 x 32\n",
        "\n",
        "        self.layer5 = nn.Sequential(\n",
        "            nn.Conv2d(64, 128, kernel_size=3, stride=1, padding=1),\n",
        "            nn.BatchNorm2d(128),\n",
        "            nn.ReLU())                                   #output 128 x 32 x 32\n",
        "\n",
        "        self.layer6 = nn.Sequential(\n",
        "            nn.Conv2d(128, 128, kernel_size=3, stride=1, padding=1),\n",
        "            nn.BatchNorm2d(128),\n",
        "            nn.ReLU())                                  #output 128 x 32 x 32\n",
        "\n",
        "        self.fc = nn.Sequential(\n",
        "           #nn.Dropout(0.2),\n",
        "            nn.Flatten(),\n",
        "            nn.Linear(128* (img_size // 2 ) * (img_size//2),  num_classes))\n",
        "\n",
        "\n",
        "    def forward(self, x):\n",
        "        out = self.layer1(x)\n",
        "\n",
        "        out = self.layer2(out)\n",
        "        out = self.layer3(out)\n",
        "        residual = out\n",
        "        out = self.layer4(out)\n",
        "        out = out + residual\n",
        "        out = self.layer5(out)\n",
        "        out = self.layer6(out)\n",
        "        out = out.reshape(out.size(0), -1)\n",
        "        out = self.fc(out)\n",
        "        out = F.log_softmax(out, dim=1)\n",
        "        return out\n",
        "\n",
        "\n",
        "\n"
      ],
      "metadata": {
        "id": "rO9cGJRKOC1K"
      },
      "execution_count": null,
      "outputs": []
    },
    {
      "cell_type": "markdown",
      "source": [
        "###TRAIN & VALIDATE"
      ],
      "metadata": {
        "id": "iHbPnrZ7sYZZ"
      }
    },
    {
      "cell_type": "code",
      "source": [
        "device = torch.device(\"cuda\" if torch.cuda.is_available() else \"cpu\")\n"
      ],
      "metadata": {
        "id": "ncQPI-0Du5DE"
      },
      "execution_count": null,
      "outputs": []
    },
    {
      "cell_type": "code",
      "source": [
        "def train_one_epoch(model):\n",
        "  running_loss = 0.\n",
        "  running_acc = 0\n",
        "  last_loss = 0\n",
        "  last_acc = 0\n",
        "  for i, data in enumerate(trainloader):\n",
        "    # Every data instance is an input + label pair\n",
        "    inputs, labels = data\n",
        "    inputs = inputs.to(device)\n",
        "    labels = labels.to(device)\n",
        "    # Zero your gradients for every batch!\n",
        "    optimizer.zero_grad()\n",
        "    # Make predictions for this batch\n",
        "    outputs = model(inputs)\n",
        "\n",
        "    # Compute the loss and its gradients\n",
        "    loss = criterion(outputs, labels)\n",
        "    _, predicted = torch.max(outputs.data, 1)\n",
        "    loss.backward()\n",
        "    # Adjust learning weights\n",
        "    optimizer.step()\n",
        "    # Gather data and report\n",
        "    running_loss += loss.item()\n",
        "    acc =  ((predicted == labels).sum().item() / num_classes) * 100\n",
        "    running_acc += acc\n",
        "    if i % batch_size ==  batch_size-1:\n",
        "      last_loss = running_loss / batch_size  # loss per batch\n",
        "      last_acc = (running_acc / batch_size) # acc per batch\n",
        "      print('batch {} loss: {} acc: {} % '.format(i + 1, last_loss, last_acc))\n",
        "      running_loss = 0.\n",
        "      running_acc = 0.\n",
        "\n",
        "  return last_loss, last_acc\n",
        "\n",
        "def train_val(model):\n",
        "        train_loss = []\n",
        "        train_acc = []\n",
        "        val_loss = []\n",
        "        val_acc = []\n",
        "        best_models = []\n",
        "        best_models_path = []\n",
        "        best_vacc= 0\n",
        "        model.to(device)\n",
        "        for epoch in range(num_epoch):\n",
        "            print(\"EPOCH:  \" ,epoch)\n",
        "            model.train(True)\n",
        "            avg_loss , avg_acc = train_one_epoch(model)\n",
        "\n",
        "            running_vloss = 0.0\n",
        "            running_vacc = 0.0\n",
        "            model.eval()\n",
        "\n",
        "\n",
        "            # Disable gradient computation and reduce memory consumption.\n",
        "            with torch.no_grad():\n",
        "                for i, vdata in enumerate(validationloader):\n",
        "                    vinputs, vlabels = vdata\n",
        "                    vinputs = vinputs.to(device)\n",
        "                    vlabels = vlabels.to(device)\n",
        "                    voutputs = model(vinputs)\n",
        "                    vloss = criterion(voutputs, vlabels)\n",
        "                    running_vloss += vloss.item()\n",
        "\n",
        "                    _, vpredicted = torch.max(voutputs.data, 1)\n",
        "                    vacc =  ((vpredicted == vlabels).sum().item() / num_classes) * 100\n",
        "                    running_vloss += vloss.item()\n",
        "                    running_vacc += vacc\n",
        "\n",
        "\n",
        "            avg_vloss = running_vloss / (i + 1)\n",
        "            avg_vacc = running_vacc / (i + 1)\n",
        "\n",
        "            train_loss.append(avg_loss)\n",
        "            train_acc.append(avg_acc)\n",
        "            val_loss.append(avg_vloss)\n",
        "            val_acc.append(avg_vacc)\n",
        "            print('LOSS train {:.3f} valid {}'.format(avg_loss, avg_vloss))\n",
        "            print(\"avg loss \" , avg_vloss)\n",
        "            if avg_vacc > best_vacc:\n",
        "                best_vacc = avg_vacc\n",
        "                #model_path = 'model_{:.3f}_{}'.format(best_vloss, epoch)\n",
        "                best_models.append(model)\n",
        "                #best_models_path.append(model_path)\n",
        "\n",
        "        #torch.save(best_models[-1].state_dict(), best_models_path[-1])\n",
        "        return train_loss, train_acc, val_loss , val_acc , best_models[-1]\n"
      ],
      "metadata": {
        "id": "v2Odxk_NEIbf"
      },
      "execution_count": null,
      "outputs": []
    },
    {
      "cell_type": "code",
      "source": [
        "model = CnnModel(8).to(device) # move model to GPU\n",
        "criterion = nn.CrossEntropyLoss()\n",
        "optimizer = torch.optim.SGD(model.parameters(), lr=learning_rate, weight_decay = 0.005, momentum = 0.9)\n",
        "\n",
        "\n",
        "train_loss, train_acc, val_loss, val_acc, best_model = train_val(model)"
      ],
      "metadata": {
        "colab": {
          "base_uri": "https://localhost:8080/"
        },
        "id": "TmLo-hIduxsM",
        "outputId": "ff0a9170-43ce-4c0d-c5c2-b4b3e0ad1945"
      },
      "execution_count": null,
      "outputs": [
        {
          "output_type": "stream",
          "name": "stdout",
          "text": [
            "EPOCH:   0\n",
            "batch 8 loss: 2.3038615584373474 acc: 14.0625 % \n",
            "batch 16 loss: 2.575757771730423 acc: 17.1875 % \n",
            "batch 24 loss: 2.947880834341049 acc: 15.625 % \n",
            "batch 32 loss: 2.7321989089250565 acc: 17.1875 % \n",
            "batch 40 loss: 3.2780089378356934 acc: 14.0625 % \n",
            "batch 48 loss: 2.6652838736772537 acc: 25.0 % \n",
            "LOSS train 2.665 valid 5.656743001937866\n",
            "avg loss  5.656743001937866\n",
            "EPOCH:   1\n",
            "batch 8 loss: 0.8575250990688801 acc: 65.625 % \n",
            "batch 16 loss: 0.9788523279130459 acc: 67.1875 % \n",
            "batch 24 loss: 0.7634823322296143 acc: 76.5625 % \n",
            "batch 32 loss: 0.8724202588200569 acc: 70.3125 % \n",
            "batch 40 loss: 0.8687968403100967 acc: 71.875 % \n",
            "batch 48 loss: 0.6474029831588268 acc: 79.6875 % \n",
            "LOSS train 0.647 valid 4.775958478450775\n",
            "avg loss  4.775958478450775\n",
            "EPOCH:   2\n",
            "batch 8 loss: 0.3051758408546448 acc: 90.625 % \n",
            "batch 16 loss: 0.36309485137462616 acc: 90.625 % \n",
            "batch 24 loss: 0.36425011418759823 acc: 95.3125 % \n",
            "batch 32 loss: 0.3624568711966276 acc: 93.75 % \n",
            "batch 40 loss: 0.31284185592085123 acc: 93.75 % \n",
            "batch 48 loss: 0.4657975286245346 acc: 85.9375 % \n",
            "LOSS train 0.466 valid 4.883560276031494\n",
            "avg loss  4.883560276031494\n",
            "EPOCH:   3\n",
            "batch 8 loss: 0.27276216447353363 acc: 95.3125 % \n",
            "batch 16 loss: 0.1305496604181826 acc: 100.0 % \n",
            "batch 24 loss: 0.21717293933033943 acc: 96.875 % \n",
            "batch 32 loss: 0.17161746323108673 acc: 98.4375 % \n",
            "batch 40 loss: 0.17116333125159144 acc: 96.875 % \n",
            "batch 48 loss: 0.2598542533814907 acc: 93.75 % \n",
            "LOSS train 0.260 valid 4.580877566337586\n",
            "avg loss  4.580877566337586\n",
            "EPOCH:   4\n",
            "batch 8 loss: 0.1105713127180934 acc: 98.4375 % \n",
            "batch 16 loss: 0.14774899696931243 acc: 98.4375 % \n",
            "batch 24 loss: 0.10658934060484171 acc: 100.0 % \n",
            "batch 32 loss: 0.16559401154518127 acc: 96.875 % \n",
            "batch 40 loss: 0.15041145775467157 acc: 98.4375 % \n",
            "batch 48 loss: 0.11575469351373613 acc: 98.4375 % \n",
            "LOSS train 0.116 valid 4.253912448883057\n",
            "avg loss  4.253912448883057\n",
            "EPOCH:   5\n",
            "batch 8 loss: 0.09085630835033953 acc: 100.0 % \n",
            "batch 16 loss: 0.20868341159075499 acc: 98.4375 % \n",
            "batch 24 loss: 0.09584399708546698 acc: 100.0 % \n",
            "batch 32 loss: 0.10667392238974571 acc: 100.0 % \n",
            "batch 40 loss: 0.11462223716080189 acc: 100.0 % \n",
            "batch 48 loss: 0.11328885494731367 acc: 98.4375 % \n",
            "LOSS train 0.113 valid 4.296824717521668\n",
            "avg loss  4.296824717521668\n",
            "EPOCH:   6\n",
            "batch 8 loss: 0.10683911829255521 acc: 98.4375 % \n",
            "batch 16 loss: 0.10856518405489624 acc: 98.4375 % \n",
            "batch 24 loss: 0.142728753387928 acc: 96.875 % \n",
            "batch 32 loss: 0.0634594252333045 acc: 100.0 % \n",
            "batch 40 loss: 0.09454500861465931 acc: 100.0 % \n",
            "batch 48 loss: 0.08754757163114846 acc: 98.4375 % \n",
            "LOSS train 0.088 valid 4.124212622642517\n",
            "avg loss  4.124212622642517\n",
            "EPOCH:   7\n",
            "batch 8 loss: 0.06202981527894735 acc: 100.0 % \n",
            "batch 16 loss: 0.09152593731414527 acc: 100.0 % \n",
            "batch 24 loss: 0.042294000275433064 acc: 100.0 % \n",
            "batch 32 loss: 0.09352635103277862 acc: 100.0 % \n",
            "batch 40 loss: 0.08711988595314324 acc: 98.4375 % \n",
            "batch 48 loss: 0.0578102539293468 acc: 100.0 % \n",
            "LOSS train 0.058 valid 4.366592502593994\n",
            "avg loss  4.366592502593994\n",
            "EPOCH:   8\n",
            "batch 8 loss: 0.029255607863888144 acc: 100.0 % \n",
            "batch 16 loss: 0.05024371016770601 acc: 100.0 % \n",
            "batch 24 loss: 0.0604712296044454 acc: 100.0 % \n",
            "batch 32 loss: 0.06013478827662766 acc: 100.0 % \n",
            "batch 40 loss: 0.04164834972470999 acc: 100.0 % \n",
            "batch 48 loss: 0.08654243685305119 acc: 98.4375 % \n",
            "LOSS train 0.087 valid 4.100255107879638\n",
            "avg loss  4.100255107879638\n",
            "EPOCH:   9\n",
            "batch 8 loss: 0.0384861771017313 acc: 100.0 % \n",
            "batch 16 loss: 0.036586230620741844 acc: 100.0 % \n",
            "batch 24 loss: 0.06478869880083948 acc: 98.4375 % \n",
            "batch 32 loss: 0.05811456055380404 acc: 100.0 % \n",
            "batch 40 loss: 0.083135123597458 acc: 98.4375 % \n",
            "batch 48 loss: 0.06374771799892187 acc: 100.0 % \n",
            "LOSS train 0.064 valid 4.318803095817566\n",
            "avg loss  4.318803095817566\n",
            "EPOCH:   10\n",
            "batch 8 loss: 0.0568694903049618 acc: 100.0 % \n",
            "batch 16 loss: 0.05752608348848298 acc: 100.0 % \n",
            "batch 24 loss: 0.028277342789806426 acc: 100.0 % \n",
            "batch 32 loss: 0.03326868009753525 acc: 100.0 % \n",
            "batch 40 loss: 0.040678563760593534 acc: 100.0 % \n",
            "batch 48 loss: 0.01957675104495138 acc: 100.0 % \n",
            "LOSS train 0.020 valid 4.27618191242218\n",
            "avg loss  4.27618191242218\n",
            "EPOCH:   11\n",
            "batch 8 loss: 0.03757093125022948 acc: 100.0 % \n",
            "batch 16 loss: 0.08501604245975614 acc: 98.4375 % \n",
            "batch 24 loss: 0.019036228535696864 acc: 100.0 % \n",
            "batch 32 loss: 0.03459793608635664 acc: 100.0 % \n",
            "batch 40 loss: 0.0317526466678828 acc: 100.0 % \n",
            "batch 48 loss: 0.0313190387096256 acc: 100.0 % \n",
            "LOSS train 0.031 valid 4.201954126358032\n",
            "avg loss  4.201954126358032\n",
            "EPOCH:   12\n",
            "batch 8 loss: 0.020907936268486083 acc: 100.0 % \n",
            "batch 16 loss: 0.020425498019903898 acc: 100.0 % \n",
            "batch 24 loss: 0.043631421285681427 acc: 100.0 % \n",
            "batch 32 loss: 0.06137303786817938 acc: 98.4375 % \n",
            "batch 40 loss: 0.036593639524653554 acc: 100.0 % \n",
            "batch 48 loss: 0.037369531812146306 acc: 100.0 % \n",
            "LOSS train 0.037 valid 4.292131972312927\n",
            "avg loss  4.292131972312927\n",
            "EPOCH:   13\n",
            "batch 8 loss: 0.015011886367574334 acc: 100.0 % \n",
            "batch 16 loss: 0.03316962521057576 acc: 100.0 % \n",
            "batch 24 loss: 0.03744635439943522 acc: 100.0 % \n",
            "batch 32 loss: 0.033907042641658336 acc: 100.0 % \n",
            "batch 40 loss: 0.04332014237297699 acc: 98.4375 % \n",
            "batch 48 loss: 0.023480796022340655 acc: 100.0 % \n",
            "LOSS train 0.023 valid 4.261764287948608\n",
            "avg loss  4.261764287948608\n",
            "EPOCH:   14\n",
            "batch 8 loss: 0.07581405085511506 acc: 98.4375 % \n",
            "batch 16 loss: 0.023962860577739775 acc: 100.0 % \n",
            "batch 24 loss: 0.019021825748495758 acc: 100.0 % \n",
            "batch 32 loss: 0.014172078110277653 acc: 100.0 % \n",
            "batch 40 loss: 0.10600679158233106 acc: 98.4375 % \n",
            "batch 48 loss: 0.024082502350211143 acc: 100.0 % \n",
            "LOSS train 0.024 valid 4.607046985626221\n",
            "avg loss  4.607046985626221\n",
            "EPOCH:   15\n",
            "batch 8 loss: 0.020371414721012115 acc: 100.0 % \n",
            "batch 16 loss: 0.05429059610469267 acc: 98.4375 % \n",
            "batch 24 loss: 0.029182106722146273 acc: 100.0 % \n",
            "batch 32 loss: 0.03730346309021115 acc: 100.0 % \n",
            "batch 40 loss: 0.021234726067632437 acc: 100.0 % \n",
            "batch 48 loss: 0.020426600240170956 acc: 100.0 % \n",
            "LOSS train 0.020 valid 4.1575737476348875\n",
            "avg loss  4.1575737476348875\n",
            "EPOCH:   16\n",
            "batch 8 loss: 0.0154886266682297 acc: 100.0 % \n",
            "batch 16 loss: 0.02776518085738644 acc: 100.0 % \n",
            "batch 24 loss: 0.02305580209940672 acc: 100.0 % \n",
            "batch 32 loss: 0.015123762073926628 acc: 100.0 % \n",
            "batch 40 loss: 0.023406265419907868 acc: 100.0 % \n",
            "batch 48 loss: 0.031144135631620884 acc: 100.0 % \n",
            "LOSS train 0.031 valid 4.2607745170593265\n",
            "avg loss  4.2607745170593265\n",
            "EPOCH:   17\n",
            "batch 8 loss: 0.016834230918902904 acc: 100.0 % \n",
            "batch 16 loss: 0.021551781450398266 acc: 100.0 % \n",
            "batch 24 loss: 0.018590631196275353 acc: 100.0 % \n",
            "batch 32 loss: 0.08076886634808034 acc: 98.4375 % \n",
            "batch 40 loss: 0.031221584358718246 acc: 100.0 % \n",
            "batch 48 loss: 0.009039809228852391 acc: 100.0 % \n",
            "LOSS train 0.009 valid 4.337105226516724\n",
            "avg loss  4.337105226516724\n",
            "EPOCH:   18\n",
            "batch 8 loss: 0.016869093116838485 acc: 100.0 % \n",
            "batch 16 loss: 0.025115720985922962 acc: 100.0 % \n",
            "batch 24 loss: 0.04206188576063141 acc: 98.4375 % \n",
            "batch 32 loss: 0.026687828823924065 acc: 100.0 % \n",
            "batch 40 loss: 0.0477249794639647 acc: 98.4375 % \n",
            "batch 48 loss: 0.02034356549847871 acc: 100.0 % \n",
            "LOSS train 0.020 valid 4.109253692626953\n",
            "avg loss  4.109253692626953\n",
            "EPOCH:   19\n",
            "batch 8 loss: 0.006472991197369993 acc: 100.0 % \n",
            "batch 16 loss: 0.04093229601858184 acc: 98.4375 % \n",
            "batch 24 loss: 0.05120586440898478 acc: 98.4375 % \n",
            "batch 32 loss: 0.012205427919980139 acc: 100.0 % \n",
            "batch 40 loss: 0.014582830015569925 acc: 100.0 % \n",
            "batch 48 loss: 0.02753193164244294 acc: 100.0 % \n",
            "LOSS train 0.028 valid 4.185297203063965\n",
            "avg loss  4.185297203063965\n",
            "EPOCH:   20\n",
            "batch 8 loss: 0.016691588913090527 acc: 100.0 % \n",
            "batch 16 loss: 0.011901122285053134 acc: 100.0 % \n",
            "batch 24 loss: 0.017179863178171217 acc: 100.0 % \n",
            "batch 32 loss: 0.01355952036101371 acc: 100.0 % \n",
            "batch 40 loss: 0.11045505967922509 acc: 98.4375 % \n",
            "batch 48 loss: 0.02658669976517558 acc: 100.0 % \n",
            "LOSS train 0.027 valid 4.592140817642212\n",
            "avg loss  4.592140817642212\n",
            "EPOCH:   21\n",
            "batch 8 loss: 0.00867636373732239 acc: 100.0 % \n",
            "batch 16 loss: 0.01637754705734551 acc: 100.0 % \n",
            "batch 24 loss: 0.023989164852537215 acc: 100.0 % \n",
            "batch 32 loss: 0.018338955647777766 acc: 100.0 % \n",
            "batch 40 loss: 0.07817260967567563 acc: 98.4375 % \n",
            "batch 48 loss: 0.011200482491403818 acc: 100.0 % \n",
            "LOSS train 0.011 valid 4.617246341705322\n",
            "avg loss  4.617246341705322\n",
            "EPOCH:   22\n",
            "batch 8 loss: 0.023409032612107694 acc: 100.0 % \n",
            "batch 16 loss: 0.02770368504570797 acc: 100.0 % \n",
            "batch 24 loss: 0.020413101534359157 acc: 100.0 % \n",
            "batch 32 loss: 0.0601267006713897 acc: 98.4375 % \n",
            "batch 40 loss: 0.023363808752037585 acc: 100.0 % \n",
            "batch 48 loss: 0.03225256403675303 acc: 100.0 % \n",
            "LOSS train 0.032 valid 4.292837142944336\n",
            "avg loss  4.292837142944336\n",
            "EPOCH:   23\n",
            "batch 8 loss: 0.014973916579037905 acc: 100.0 % \n",
            "batch 16 loss: 0.04861150300712325 acc: 98.4375 % \n",
            "batch 24 loss: 0.04677452513715252 acc: 98.4375 % \n",
            "batch 32 loss: 0.014466094551607966 acc: 100.0 % \n",
            "batch 40 loss: 0.014004923752509058 acc: 100.0 % \n",
            "batch 48 loss: 0.015473277162527665 acc: 100.0 % \n",
            "LOSS train 0.015 valid 4.234628677368164\n",
            "avg loss  4.234628677368164\n",
            "EPOCH:   24\n",
            "batch 8 loss: 0.014299636357463896 acc: 100.0 % \n",
            "batch 16 loss: 0.01366679000784643 acc: 100.0 % \n",
            "batch 24 loss: 0.009019158373121172 acc: 100.0 % \n",
            "batch 32 loss: 0.012693898112047464 acc: 100.0 % \n",
            "batch 40 loss: 0.019427775114309043 acc: 100.0 % \n",
            "batch 48 loss: 0.04592078100540675 acc: 98.4375 % \n",
            "LOSS train 0.046 valid 4.332846236228943\n",
            "avg loss  4.332846236228943\n",
            "EPOCH:   25\n",
            "batch 8 loss: 0.011464702663943172 acc: 100.0 % \n",
            "batch 16 loss: 0.01702739723259583 acc: 100.0 % \n",
            "batch 24 loss: 0.02183722797781229 acc: 100.0 % \n",
            "batch 32 loss: 0.05070700770011172 acc: 98.4375 % \n",
            "batch 40 loss: 0.010608581593260169 acc: 100.0 % \n",
            "batch 48 loss: 0.009432299644686282 acc: 100.0 % \n",
            "LOSS train 0.009 valid 4.3265787124633786\n",
            "avg loss  4.3265787124633786\n",
            "EPOCH:   26\n",
            "batch 8 loss: 0.0139170530019328 acc: 100.0 % \n",
            "batch 16 loss: 0.10009081175667234 acc: 98.4375 % \n",
            "batch 24 loss: 0.009441904607228935 acc: 100.0 % \n",
            "batch 32 loss: 0.010595351399388164 acc: 100.0 % \n",
            "batch 40 loss: 0.013307103945408016 acc: 100.0 % \n",
            "batch 48 loss: 0.07781210337998345 acc: 98.4375 % \n",
            "LOSS train 0.078 valid 4.264015245437622\n",
            "avg loss  4.264015245437622\n",
            "EPOCH:   27\n",
            "batch 8 loss: 0.011602814280195162 acc: 100.0 % \n",
            "batch 16 loss: 0.02273081860039383 acc: 100.0 % \n",
            "batch 24 loss: 0.0718224800657481 acc: 98.4375 % \n",
            "batch 32 loss: 0.007527511770604178 acc: 100.0 % \n",
            "batch 40 loss: 0.011907421110663563 acc: 100.0 % \n",
            "batch 48 loss: 0.024612948123831302 acc: 100.0 % \n",
            "LOSS train 0.025 valid 4.507033348083496\n",
            "avg loss  4.507033348083496\n",
            "EPOCH:   28\n",
            "batch 8 loss: 0.007925792131572962 acc: 100.0 % \n",
            "batch 16 loss: 0.006462508288677782 acc: 100.0 % \n",
            "batch 24 loss: 0.009623106161598116 acc: 100.0 % \n",
            "batch 32 loss: 0.007770664349664003 acc: 100.0 % \n",
            "batch 40 loss: 0.011373379325959831 acc: 100.0 % \n",
            "batch 48 loss: 0.030326304666232318 acc: 98.4375 % \n",
            "LOSS train 0.030 valid 4.327083039283752\n",
            "avg loss  4.327083039283752\n",
            "EPOCH:   29\n",
            "batch 8 loss: 0.009780731692444533 acc: 100.0 % \n",
            "batch 16 loss: 0.037291212705895305 acc: 98.4375 % \n",
            "batch 24 loss: 0.12360254689701833 acc: 96.875 % \n",
            "batch 32 loss: 0.006436979747377336 acc: 100.0 % \n",
            "batch 40 loss: 0.021848026604857296 acc: 100.0 % \n",
            "batch 48 loss: 0.007742519024759531 acc: 100.0 % \n",
            "LOSS train 0.008 valid 4.395729732513428\n",
            "avg loss  4.395729732513428\n"
          ]
        }
      ]
    },
    {
      "cell_type": "code",
      "source": [
        "#PLOT LOSS AND ACCURACY CHANGE OF TRAIN AND VALIDATION SET\n",
        "def plot(list1,list2,title,name,type):\n",
        "  plt.plot(range(1,num_epoch+1),list1,  label = \"Train\")\n",
        "  plt.plot(range(1,num_epoch+1),list2, label = \"Validation\")\n",
        "  plt.xlabel(\"Epoch\")\n",
        "  plt.ylabel(type)\n",
        "  plt.title(title)\n",
        "  plt.legend()\n",
        "  filename = f\"{name}.png\"\n",
        "  plt.savefig(filename)\n",
        "  plt.show()\n",
        "\n",
        "plot(train_acc,val_acc,\"Accuracy change with Batch = 8\",\"Accuracy_b_8\",\"Accuracy\")\n",
        "plot(train_loss,val_loss,\"Loss change with Batch = 8\",\"Loss_b_8\",\"Loss\")"
      ],
      "metadata": {
        "id": "BB28DHjrip0A",
        "colab": {
          "base_uri": "https://localhost:8080/",
          "height": 927
        },
        "outputId": "9ce10ae7-f025-42bd-d0f5-2badcb85f761"
      },
      "execution_count": null,
      "outputs": [
        {
          "output_type": "display_data",
          "data": {
            "text/plain": [
              "<Figure size 640x480 with 1 Axes>"
            ],
            "image/png": "[encoded data removed]"
          },
          "metadata": {}
        },
        {
          "output_type": "display_data",
          "data": {
            "text/plain": [
              "<Figure size 640x480 with 1 Axes>"
            ],
            "image/png": "[encoded data removed]"
          },
          "metadata": {}
        }
      ]
    },
    {
      "cell_type": "markdown",
      "source": [
        "###TEST MODEL USING BEST MODEL"
      ],
      "metadata": {
        "id": "MkxpUlTBsVG8"
      }
    },
    {
      "cell_type": "code",
      "source": [
        "def test(model, device, test_loader):\n",
        "    # Switch the model to evaluation mode (so we don't backpropagate or drop)\n",
        "    model.eval()\n",
        "    test_loss = 0\n",
        "    correct = 0\n",
        "    predicted_labels = []\n",
        "    true_labels = []\n",
        "    with torch.no_grad():\n",
        "        batch_count = 0\n",
        "        for data, target in test_loader:\n",
        "            batch_count += 1\n",
        "            data, target = data.to(device), target.to(device)\n",
        "            # Get the predicted classes for this batch\n",
        "            output = model(data)\n",
        "\n",
        "            # Calculate the loss for this batch\n",
        "            test_loss += criterion(output, target).item()\n",
        "\n",
        "\n",
        "            # Calculate the accuracy for this batch\n",
        "            _, predicted = torch.max(output.data, 1)\n",
        "            correct += torch.sum(target==predicted).item()\n",
        "            predicted_labels.extend(predicted.tolist())\n",
        "            true_labels.extend(target.tolist())\n",
        "\n",
        "    # Calculate the average loss and total accuracy for this epoch\n",
        "    avg_loss = test_loss / batch_count\n",
        "    print('Validation set: Average loss: {:.3f}, Accuracy: {}/{} ({:.1f}%)\\n'.format(\n",
        "        avg_loss, correct, len(test_loader.dataset),\n",
        "        100. * correct / len(test_loader.dataset)))\n",
        "    # return average loss for the epoch\n",
        "\n",
        "    return avg_loss, true_labels, predicted_labels\n",
        "\n",
        "avg_loss, true_labels, predicted_labels = test(best_model, device, testloader)"
      ],
      "metadata": {
        "colab": {
          "base_uri": "https://localhost:8080/"
        },
        "id": "78XLm8CY0Ld0",
        "outputId": "25306186-e8a9-4528-bc15-f3835a10ac22"
      },
      "execution_count": null,
      "outputs": [
        {
          "output_type": "stream",
          "name": "stdout",
          "text": [
            "Validation set: Average loss: 2.253, Accuracy: 21/80 (26.2%)\n",
            "\n"
          ]
        }
      ]
    },
    {
      "cell_type": "code",
      "source": [
        "# Calculate the confusion matrix\n",
        "from sklearn.metrics import confusion_matrix\n",
        "import pandas as pd\n",
        "import matplotlib.pyplot as plt\n",
        "import numpy as np\n",
        "import seaborn as sns\n",
        "\n",
        "\n",
        "\n",
        "def confusion(true_labels, predicted_labels):\n",
        "  cm = confusion_matrix(true_labels, predicted_labels)\n",
        "  cm_df = pd.DataFrame(cm,\n",
        "                     index = classes,\n",
        "                     columns = classes)\n",
        "  plt.figure(figsize=(5,4))\n",
        "\n",
        "  sns.heatmap(cm_df, annot=True)\n",
        "  plt.title('Confusion Matrix')\n",
        "  plt.ylabel('Actual Values')\n",
        "  plt.xlabel('Predicted Values')\n",
        "  plt.show()\n"
      ],
      "metadata": {
        "id": "UOrwkVhqwVxZ"
      },
      "execution_count": null,
      "outputs": []
    },
    {
      "cell_type": "code",
      "source": [
        "confusion(true_labels, predicted_labels)"
      ],
      "metadata": {
        "colab": {
          "base_uri": "https://localhost:8080/",
          "height": 525
        },
        "id": "7gy41th7wZaT",
        "outputId": "5a10880a-3c30-41e7-e92e-ead35fc1951c"
      },
      "execution_count": null,
      "outputs": [
        {
          "output_type": "display_data",
          "data": {
            "text/plain": [
              "<Figure size 500x400 with 2 Axes>"
            ],
            "image/png": "[encoded data removed]"
          },
          "metadata": {}
        }
      ]
    },
    {
      "cell_type": "markdown",
      "source": [
        "###ADD DROPOUT LAYER"
      ],
      "metadata": {
        "id": "yRl0ijFguSFQ"
      }
    },
    {
      "cell_type": "code",
      "source": [
        "best_model.fc = nn.Sequential(\n",
        "    nn.Dropout(0.1),\n",
        "    nn.Flatten(),\n",
        "    nn.Linear(128 * (img_size//2) * (img_size//2), num_classes)\n",
        ")\n",
        "\n",
        "train_drop_loss, train_drop_acc, val_drop_loss, val_drop_acc, best_drop_model = train_val(best_model)"
      ],
      "metadata": {
        "colab": {
          "base_uri": "https://localhost:8080/"
        },
        "id": "c9cuaz3G0rzF",
        "outputId": "23a34b2b-71bd-4f0a-9b42-f462a20533d1"
      },
      "execution_count": 30,
      "outputs": [
        {
          "output_type": "stream",
          "name": "stdout",
          "text": [
            "EPOCH:   0\n",
            "batch 8 loss: 2.16182741522789 acc: 9.375 % \n",
            "batch 16 loss: 2.1797971576452255 acc: 12.5 % \n",
            "batch 24 loss: 2.1157056838274 acc: 10.9375 % \n",
            "batch 32 loss: 2.200006902217865 acc: 7.8125 % \n",
            "batch 40 loss: 2.1089364737272263 acc: 17.1875 % \n",
            "batch 48 loss: 2.128272831439972 acc: 10.9375 % \n",
            "LOSS train 2.128 valid 4.0539997816085815\n",
            "avg loss  4.0539997816085815\n",
            "EPOCH:   1\n",
            "batch 8 loss: 1.9707060009241104 acc: 21.875 % \n",
            "batch 16 loss: 1.9526198208332062 acc: 29.6875 % \n",
            "batch 24 loss: 1.8615822792053223 acc: 31.25 % \n",
            "batch 32 loss: 1.9689617902040482 acc: 25.0 % \n",
            "batch 40 loss: 1.9708852618932724 acc: 20.3125 % \n",
            "batch 48 loss: 1.872693344950676 acc: 28.125 % \n",
            "LOSS train 1.873 valid 4.002888107299805\n",
            "avg loss  4.002888107299805\n",
            "EPOCH:   2\n",
            "batch 8 loss: 1.7589672803878784 acc: 42.1875 % \n",
            "batch 16 loss: 1.7982352375984192 acc: 40.625 % \n",
            "batch 24 loss: 1.766547754406929 acc: 46.875 % \n",
            "batch 32 loss: 1.766625240445137 acc: 43.75 % \n",
            "batch 40 loss: 1.7706989347934723 acc: 37.5 % \n",
            "batch 48 loss: 1.8208543807268143 acc: 39.0625 % \n",
            "LOSS train 1.821 valid 3.961168098449707\n",
            "avg loss  3.961168098449707\n",
            "EPOCH:   3\n",
            "batch 8 loss: 1.6992644220590591 acc: 43.75 % \n",
            "batch 16 loss: 1.6017536222934723 acc: 64.0625 % \n",
            "batch 24 loss: 1.6605732589960098 acc: 59.375 % \n",
            "batch 32 loss: 1.6531900614500046 acc: 50.0 % \n",
            "batch 40 loss: 1.6305861473083496 acc: 57.8125 % \n",
            "batch 48 loss: 1.6464164704084396 acc: 60.9375 % \n",
            "LOSS train 1.646 valid 3.9264291763305663\n",
            "avg loss  3.9264291763305663\n",
            "EPOCH:   4\n",
            "batch 8 loss: 1.533184453845024 acc: 65.625 % \n",
            "batch 16 loss: 1.517369419336319 acc: 68.75 % \n",
            "batch 24 loss: 1.5213314443826675 acc: 67.1875 % \n",
            "batch 32 loss: 1.5360440015792847 acc: 67.1875 % \n",
            "batch 40 loss: 1.4773942083120346 acc: 67.1875 % \n",
            "batch 48 loss: 1.5705965161323547 acc: 67.1875 % \n",
            "LOSS train 1.571 valid 3.8866315603256227\n",
            "avg loss  3.8866315603256227\n",
            "EPOCH:   5\n",
            "batch 8 loss: 1.459700956940651 acc: 71.875 % \n",
            "batch 16 loss: 1.4328987002372742 acc: 73.4375 % \n",
            "batch 24 loss: 1.3239951133728027 acc: 84.375 % \n",
            "batch 32 loss: 1.4668807983398438 acc: 76.5625 % \n",
            "batch 40 loss: 1.4395813345909119 acc: 73.4375 % \n",
            "batch 48 loss: 1.417890504002571 acc: 70.3125 % \n",
            "LOSS train 1.418 valid 3.8557916402816774\n",
            "avg loss  3.8557916402816774\n",
            "EPOCH:   6\n",
            "batch 8 loss: 1.2560618221759796 acc: 87.5 % \n",
            "batch 16 loss: 1.3713919669389725 acc: 81.25 % \n",
            "batch 24 loss: 1.357401967048645 acc: 84.375 % \n",
            "batch 32 loss: 1.3539467751979828 acc: 81.25 % \n",
            "batch 40 loss: 1.3385562300682068 acc: 84.375 % \n",
            "batch 48 loss: 1.3469398468732834 acc: 79.6875 % \n",
            "LOSS train 1.347 valid 3.8528362035751345\n",
            "avg loss  3.8528362035751345\n",
            "EPOCH:   7\n",
            "batch 8 loss: 1.228321522474289 acc: 89.0625 % \n",
            "batch 16 loss: 1.2557714581489563 acc: 89.0625 % \n",
            "batch 24 loss: 1.2997357249259949 acc: 84.375 % \n",
            "batch 32 loss: 1.2000113874673843 acc: 89.0625 % \n",
            "batch 40 loss: 1.239390254020691 acc: 81.25 % \n",
            "batch 48 loss: 1.2731828689575195 acc: 79.6875 % \n",
            "LOSS train 1.273 valid 3.803356099128723\n",
            "avg loss  3.803356099128723\n",
            "EPOCH:   8\n",
            "batch 8 loss: 1.2314498573541641 acc: 87.5 % \n",
            "batch 16 loss: 1.1162553429603577 acc: 95.3125 % \n",
            "batch 24 loss: 1.2770629078149796 acc: 78.125 % \n",
            "batch 32 loss: 1.1896739602088928 acc: 84.375 % \n",
            "batch 40 loss: 1.162400208413601 acc: 84.375 % \n",
            "batch 48 loss: 1.1918597966432571 acc: 89.0625 % \n",
            "LOSS train 1.192 valid 3.827956223487854\n",
            "avg loss  3.827956223487854\n",
            "EPOCH:   9\n",
            "batch 8 loss: 1.0949505418539047 acc: 92.1875 % \n",
            "batch 16 loss: 1.1190138012170792 acc: 93.75 % \n",
            "batch 24 loss: 1.1223216131329536 acc: 87.5 % \n",
            "batch 32 loss: 1.1034973412752151 acc: 90.625 % \n",
            "batch 40 loss: 1.1557188853621483 acc: 89.0625 % \n",
            "batch 48 loss: 1.0747488290071487 acc: 87.5 % \n",
            "LOSS train 1.075 valid 3.7912408113479614\n",
            "avg loss  3.7912408113479614\n",
            "EPOCH:   10\n",
            "batch 8 loss: 1.0732706487178802 acc: 92.1875 % \n",
            "batch 16 loss: 1.0540119111537933 acc: 95.3125 % \n",
            "batch 24 loss: 1.0684787333011627 acc: 90.625 % \n",
            "batch 32 loss: 1.0338561683893204 acc: 93.75 % \n",
            "batch 40 loss: 1.1320359408855438 acc: 92.1875 % \n",
            "batch 48 loss: 1.0704769492149353 acc: 90.625 % \n",
            "LOSS train 1.070 valid 3.768655872344971\n",
            "avg loss  3.768655872344971\n",
            "EPOCH:   11\n",
            "batch 8 loss: 0.9730125889182091 acc: 95.3125 % \n",
            "batch 16 loss: 0.9615171849727631 acc: 98.4375 % \n",
            "batch 24 loss: 1.023296907544136 acc: 93.75 % \n",
            "batch 32 loss: 1.005980744957924 acc: 90.625 % \n",
            "batch 40 loss: 0.9942357465624809 acc: 93.75 % \n",
            "batch 48 loss: 1.06020887196064 acc: 93.75 % \n",
            "LOSS train 1.060 valid 3.745880937576294\n",
            "avg loss  3.745880937576294\n",
            "EPOCH:   12\n",
            "batch 8 loss: 0.9623281881213188 acc: 95.3125 % \n",
            "batch 16 loss: 0.9020797535777092 acc: 95.3125 % \n",
            "batch 24 loss: 0.9681373164057732 acc: 93.75 % \n",
            "batch 32 loss: 0.9290030300617218 acc: 98.4375 % \n",
            "batch 40 loss: 0.9621656760573387 acc: 95.3125 % \n",
            "batch 48 loss: 1.0096130892634392 acc: 89.0625 % \n",
            "LOSS train 1.010 valid 3.734246516227722\n",
            "avg loss  3.734246516227722\n",
            "EPOCH:   13\n",
            "batch 8 loss: 0.9002283662557602 acc: 93.75 % \n",
            "batch 16 loss: 0.8618009835481644 acc: 98.4375 % \n",
            "batch 24 loss: 0.9478354081511497 acc: 95.3125 % \n",
            "batch 32 loss: 0.9119531288743019 acc: 93.75 % \n",
            "batch 40 loss: 0.945764809846878 acc: 93.75 % \n",
            "batch 48 loss: 0.8865408971905708 acc: 95.3125 % \n",
            "LOSS train 0.887 valid 3.7125684022903442\n",
            "avg loss  3.7125684022903442\n",
            "EPOCH:   14\n",
            "batch 8 loss: 0.9021725207567215 acc: 93.75 % \n",
            "batch 16 loss: 0.8508728966116905 acc: 96.875 % \n",
            "batch 24 loss: 0.9263285472989082 acc: 95.3125 % \n",
            "batch 32 loss: 0.8244258686900139 acc: 96.875 % \n",
            "batch 40 loss: 0.9813694283366203 acc: 89.0625 % \n",
            "batch 48 loss: 0.8430212065577507 acc: 96.875 % \n",
            "LOSS train 0.843 valid 3.7092527627944945\n",
            "avg loss  3.7092527627944945\n",
            "EPOCH:   15\n",
            "batch 8 loss: 0.7835668623447418 acc: 100.0 % \n",
            "batch 16 loss: 0.8187152147293091 acc: 95.3125 % \n",
            "batch 24 loss: 0.8352559059858322 acc: 95.3125 % \n",
            "batch 32 loss: 0.8577754870057106 acc: 98.4375 % \n",
            "batch 40 loss: 0.8448211923241615 acc: 96.875 % \n",
            "batch 48 loss: 0.7773875817656517 acc: 96.875 % \n",
            "LOSS train 0.777 valid 3.6928252458572386\n",
            "avg loss  3.6928252458572386\n",
            "EPOCH:   16\n",
            "batch 8 loss: 0.7789894863963127 acc: 100.0 % \n",
            "batch 16 loss: 0.83983064442873 acc: 95.3125 % \n",
            "batch 24 loss: 0.7582015842199326 acc: 96.875 % \n",
            "batch 32 loss: 0.8342410176992416 acc: 95.3125 % \n",
            "batch 40 loss: 0.7747477814555168 acc: 98.4375 % \n",
            "batch 48 loss: 0.808312825858593 acc: 95.3125 % \n",
            "LOSS train 0.808 valid 3.6843952417373655\n",
            "avg loss  3.6843952417373655\n",
            "EPOCH:   17\n",
            "batch 8 loss: 0.7999335899949074 acc: 93.75 % \n",
            "batch 16 loss: 0.7104731798171997 acc: 98.4375 % \n",
            "batch 24 loss: 0.7673568353056908 acc: 98.4375 % \n",
            "batch 32 loss: 0.7496353909373283 acc: 98.4375 % \n",
            "batch 40 loss: 0.8084281384944916 acc: 95.3125 % \n",
            "batch 48 loss: 0.7474430948495865 acc: 96.875 % \n",
            "LOSS train 0.747 valid 3.6754239082336424\n",
            "avg loss  3.6754239082336424\n",
            "EPOCH:   18\n",
            "batch 8 loss: 0.7802568525075912 acc: 95.3125 % \n",
            "batch 16 loss: 0.7372320517897606 acc: 98.4375 % \n",
            "batch 24 loss: 0.7834604531526566 acc: 98.4375 % \n",
            "batch 32 loss: 0.7093745321035385 acc: 95.3125 % \n",
            "batch 40 loss: 0.6788844913244247 acc: 98.4375 % \n",
            "batch 48 loss: 0.7448203340172768 acc: 96.875 % \n",
            "LOSS train 0.745 valid 3.6593969106674193\n",
            "avg loss  3.6593969106674193\n",
            "EPOCH:   19\n",
            "batch 8 loss: 0.7298934832215309 acc: 96.875 % \n",
            "batch 16 loss: 0.6941084563732147 acc: 98.4375 % \n",
            "batch 24 loss: 0.6628996580839157 acc: 98.4375 % \n",
            "batch 32 loss: 0.7160930261015892 acc: 95.3125 % \n",
            "batch 40 loss: 0.6630336120724678 acc: 100.0 % \n",
            "batch 48 loss: 0.7241255939006805 acc: 98.4375 % \n",
            "LOSS train 0.724 valid 3.6642197132110597\n",
            "avg loss  3.6642197132110597\n",
            "EPOCH:   20\n",
            "batch 8 loss: 0.6919111981987953 acc: 98.4375 % \n",
            "batch 16 loss: 0.658880740404129 acc: 100.0 % \n",
            "batch 24 loss: 0.6976661495864391 acc: 93.75 % \n",
            "batch 32 loss: 0.665477804839611 acc: 98.4375 % \n",
            "batch 40 loss: 0.6842263862490654 acc: 100.0 % \n",
            "batch 48 loss: 0.6861937791109085 acc: 96.875 % \n",
            "LOSS train 0.686 valid 3.626203775405884\n",
            "avg loss  3.626203775405884\n",
            "EPOCH:   21\n",
            "batch 8 loss: 0.6659379154443741 acc: 96.875 % \n",
            "batch 16 loss: 0.6271002516150475 acc: 96.875 % \n",
            "batch 24 loss: 0.643541194498539 acc: 98.4375 % \n",
            "batch 32 loss: 0.6219753958284855 acc: 100.0 % \n",
            "batch 40 loss: 0.6888806074857712 acc: 98.4375 % \n",
            "batch 48 loss: 0.6944647133350372 acc: 100.0 % \n",
            "LOSS train 0.694 valid 3.638038492202759\n",
            "avg loss  3.638038492202759\n",
            "EPOCH:   22\n",
            "batch 8 loss: 0.647636316716671 acc: 96.875 % \n",
            "batch 16 loss: 0.6337171345949173 acc: 98.4375 % \n",
            "batch 24 loss: 0.6609847769141197 acc: 95.3125 % \n",
            "batch 32 loss: 0.6300083138048649 acc: 98.4375 % \n",
            "batch 40 loss: 0.5963865779340267 acc: 100.0 % \n",
            "batch 48 loss: 0.6296619698405266 acc: 100.0 % \n",
            "LOSS train 0.630 valid 3.638789439201355\n",
            "avg loss  3.638789439201355\n",
            "EPOCH:   23\n",
            "batch 8 loss: 0.6934813261032104 acc: 96.875 % \n",
            "batch 16 loss: 0.5713939294219017 acc: 98.4375 % \n",
            "batch 24 loss: 0.5663774199783802 acc: 98.4375 % \n",
            "batch 32 loss: 0.6006160341203213 acc: 96.875 % \n",
            "batch 40 loss: 0.637923538684845 acc: 96.875 % \n",
            "batch 48 loss: 0.5874082669615746 acc: 100.0 % \n",
            "LOSS train 0.587 valid 3.637504005432129\n",
            "avg loss  3.637504005432129\n",
            "EPOCH:   24\n",
            "batch 8 loss: 0.5436893627047539 acc: 100.0 % \n",
            "batch 16 loss: 0.5801127441227436 acc: 96.875 % \n",
            "batch 24 loss: 0.57215391471982 acc: 96.875 % \n",
            "batch 32 loss: 0.6365396119654179 acc: 92.1875 % \n",
            "batch 40 loss: 0.5794160291552544 acc: 98.4375 % \n",
            "batch 48 loss: 0.5710719302296638 acc: 100.0 % \n",
            "LOSS train 0.571 valid 3.6102986574172973\n",
            "avg loss  3.6102986574172973\n",
            "EPOCH:   25\n",
            "batch 8 loss: 0.5393452495336533 acc: 100.0 % \n",
            "batch 16 loss: 0.6096874363720417 acc: 96.875 % \n",
            "batch 24 loss: 0.5717542432248592 acc: 98.4375 % \n",
            "batch 32 loss: 0.6310126185417175 acc: 98.4375 % \n",
            "batch 40 loss: 0.5889032892882824 acc: 98.4375 % \n",
            "batch 48 loss: 0.48336176574230194 acc: 98.4375 % \n",
            "LOSS train 0.483 valid 3.614686107635498\n",
            "avg loss  3.614686107635498\n",
            "EPOCH:   26\n",
            "batch 8 loss: 0.5584569722414017 acc: 100.0 % \n",
            "batch 16 loss: 0.5646203681826591 acc: 93.75 % \n",
            "batch 24 loss: 0.5704676322638988 acc: 98.4375 % \n",
            "batch 32 loss: 0.5514276288449764 acc: 100.0 % \n",
            "batch 40 loss: 0.5880301333963871 acc: 96.875 % \n",
            "batch 48 loss: 0.5216530859470367 acc: 100.0 % \n",
            "LOSS train 0.522 valid 3.652402091026306\n",
            "avg loss  3.652402091026306\n",
            "EPOCH:   27\n",
            "batch 8 loss: 0.5165243409574032 acc: 100.0 % \n",
            "batch 16 loss: 0.5944289080798626 acc: 98.4375 % \n",
            "batch 24 loss: 0.4714646451175213 acc: 98.4375 % \n",
            "batch 32 loss: 0.5715067647397518 acc: 95.3125 % \n",
            "batch 40 loss: 0.5016245022416115 acc: 100.0 % \n",
            "batch 48 loss: 0.5859761908650398 acc: 98.4375 % \n",
            "LOSS train 0.586 valid 3.605612587928772\n",
            "avg loss  3.605612587928772\n",
            "EPOCH:   28\n",
            "batch 8 loss: 0.5525564849376678 acc: 98.4375 % \n",
            "batch 16 loss: 0.5339742638170719 acc: 96.875 % \n",
            "batch 24 loss: 0.5038464143872261 acc: 98.4375 % \n",
            "batch 32 loss: 0.4946739599108696 acc: 98.4375 % \n",
            "batch 40 loss: 0.5277961827814579 acc: 100.0 % \n",
            "batch 48 loss: 0.5596233867108822 acc: 100.0 % \n",
            "LOSS train 0.560 valid 3.614625668525696\n",
            "avg loss  3.614625668525696\n",
            "EPOCH:   29\n",
            "batch 8 loss: 0.508252989500761 acc: 95.3125 % \n",
            "batch 16 loss: 0.4577060639858246 acc: 100.0 % \n",
            "batch 24 loss: 0.5404728464782238 acc: 98.4375 % \n",
            "batch 32 loss: 0.5142388194799423 acc: 100.0 % \n",
            "batch 40 loss: 0.45722363516688347 acc: 98.4375 % \n",
            "batch 48 loss: 0.5244868136942387 acc: 96.875 % \n",
            "LOSS train 0.524 valid 3.6078592777252196\n",
            "avg loss  3.6078592777252196\n"
          ]
        }
      ]
    },
    {
      "cell_type": "code",
      "source": [
        "max(val_drop_acc)"
      ],
      "metadata": {
        "colab": {
          "base_uri": "https://localhost:8080/"
        },
        "id": "UdW6H3uu0xp-",
        "outputId": "cbfc111b-a9ba-4879-ea08-48d0bce633a9"
      },
      "execution_count": 31,
      "outputs": [
        {
          "output_type": "execute_result",
          "data": {
            "text/plain": [
              "36.25"
            ]
          },
          "metadata": {},
          "execution_count": 31
        }
      ]
    },
    {
      "cell_type": "markdown",
      "source": [
        "###TEST WITH DROPOUT LAYER"
      ],
      "metadata": {
        "id": "7XR2bMabudWd"
      }
    },
    {
      "cell_type": "code",
      "source": [
        "avg_drop_loss, true_drop_labels, predicted_drop_labels = test(best_drop_model, device, testloader)\n"
      ],
      "metadata": {
        "colab": {
          "base_uri": "https://localhost:8080/"
        },
        "id": "dzVRuMK6w7oi",
        "outputId": "d3ef1000-b60e-47eb-fff9-ed14b15b4890"
      },
      "execution_count": 32,
      "outputs": [
        {
          "output_type": "stream",
          "name": "stdout",
          "text": [
            "Validation set: Average loss: 1.885, Accuracy: 22/80 (27.5%)\n",
            "\n"
          ]
        }
      ]
    },
    {
      "cell_type": "code",
      "source": [
        "confusion(true_labels, predicted_labels)"
      ],
      "metadata": {
        "colab": {
          "base_uri": "https://localhost:8080/",
          "height": 525
        },
        "id": "xLYL4YGfw9Iq",
        "outputId": "dd2f3b84-4486-42dd-b1e9-0a842d41b0de"
      },
      "execution_count": 33,
      "outputs": [
        {
          "output_type": "display_data",
          "data": {
            "text/plain": [
              "<Figure size 500x400 with 2 Axes>"
            ],
            "image/png": "[encoded data removed]"
          },
          "metadata": {}
        }
      ]
    }
  ]
}